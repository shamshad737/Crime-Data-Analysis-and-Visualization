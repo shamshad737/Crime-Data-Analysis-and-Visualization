{
 "cells": [
  {
   "cell_type": "code",
   "execution_count": 12,
   "id": "61cd368f-c048-4418-9ac5-4d76176bc953",
   "metadata": {},
   "outputs": [],
   "source": [
    "import pymysql\n",
    "import numpy as np \n",
    "import pandas as pd \n",
    "import matplotlib.pyplot as plt \n",
    "import seaborn as sns"
   ]
  },
  {
   "cell_type": "code",
   "execution_count": 13,
   "id": "ab3ea749-da80-4527-9ebc-292598a32713",
   "metadata": {},
   "outputs": [
    {
     "data": {
      "text/plain": [
       "<pymysql.connections.Connection at 0x24bcbaddd90>"
      ]
     },
     "execution_count": 13,
     "metadata": {},
     "output_type": "execute_result"
    }
   ],
   "source": [
    "connection = pymysql.connect(host = \"127.0.0.1\",\n",
    "                             user = \"root\",\n",
    "                             password = \"12345\",\n",
    "                             database = \"capstone\")\n",
    "connection"
   ]
  },
  {
   "cell_type": "code",
   "execution_count": 16,
   "id": "2c54add1-c5ab-4a52-a622-58baa87ba5a6",
   "metadata": {},
   "outputs": [
    {
     "name": "stderr",
     "output_type": "stream",
     "text": [
      "C:\\Users\\mdsha\\AppData\\Local\\Temp\\ipykernel_9164\\3872747894.py:2: UserWarning: pandas only supports SQLAlchemy connectable (engine/connection) or database string URI or sqlite3 DBAPI2 connection. Other DBAPI2 objects are not tested. Please consider using SQLAlchemy.\n",
      "  df = pd.read_sql(query, connection)\n"
     ]
    },
    {
     "data": {
      "text/html": [
       "<div>\n",
       "<style scoped>\n",
       "    .dataframe tbody tr th:only-of-type {\n",
       "        vertical-align: middle;\n",
       "    }\n",
       "\n",
       "    .dataframe tbody tr th {\n",
       "        vertical-align: top;\n",
       "    }\n",
       "\n",
       "    .dataframe thead th {\n",
       "        text-align: right;\n",
       "    }\n",
       "</style>\n",
       "<table border=\"1\" class=\"dataframe\">\n",
       "  <thead>\n",
       "    <tr style=\"text-align: right;\">\n",
       "      <th></th>\n",
       "      <th>DR_NO</th>\n",
       "      <th>Date_Rptd</th>\n",
       "      <th>DATE_OCC</th>\n",
       "      <th>AREA_NAME</th>\n",
       "      <th>Crm_Cd</th>\n",
       "      <th>Crm_Cd_Desc</th>\n",
       "      <th>Vict_Age</th>\n",
       "      <th>Vict_Sex</th>\n",
       "      <th>Premis_Desc</th>\n",
       "      <th>Status</th>\n",
       "      <th>Location</th>\n",
       "      <th>LAT</th>\n",
       "      <th>LON</th>\n",
       "    </tr>\n",
       "  </thead>\n",
       "  <tbody>\n",
       "    <tr>\n",
       "      <th>0</th>\n",
       "      <td>10304468</td>\n",
       "      <td>01-08-2020</td>\n",
       "      <td>01-08-2020</td>\n",
       "      <td>Southwest</td>\n",
       "      <td>624</td>\n",
       "      <td>BATTERY - SIMPLE ASSAULT</td>\n",
       "      <td>36</td>\n",
       "      <td>F</td>\n",
       "      <td>SINGLE FAMILY DWELLING</td>\n",
       "      <td>AO</td>\n",
       "      <td>1100 W 39TH PL</td>\n",
       "      <td>34.01</td>\n",
       "      <td>-118.30</td>\n",
       "    </tr>\n",
       "    <tr>\n",
       "      <th>1</th>\n",
       "      <td>190101086</td>\n",
       "      <td>01-02-2020</td>\n",
       "      <td>01-01-2020</td>\n",
       "      <td>Central</td>\n",
       "      <td>624</td>\n",
       "      <td>BATTERY - SIMPLE ASSAULT</td>\n",
       "      <td>25</td>\n",
       "      <td>M</td>\n",
       "      <td>SIDEWALK</td>\n",
       "      <td>IC</td>\n",
       "      <td>700 S HILL ST</td>\n",
       "      <td>34.05</td>\n",
       "      <td>-118.25</td>\n",
       "    </tr>\n",
       "    <tr>\n",
       "      <th>2</th>\n",
       "      <td>191501505</td>\n",
       "      <td>01-01-2020</td>\n",
       "      <td>01-01-2020</td>\n",
       "      <td>N Hollywood</td>\n",
       "      <td>745</td>\n",
       "      <td>VANDALISM - MISDEAMEANOR ($399 OR UNDER)</td>\n",
       "      <td>76</td>\n",
       "      <td>F</td>\n",
       "      <td>MULTI-UNIT DWELLING (APARTMENT, DUPLEX, ETC)</td>\n",
       "      <td>IC</td>\n",
       "      <td>5400 CORTEEN PL</td>\n",
       "      <td>34.17</td>\n",
       "      <td>-118.40</td>\n",
       "    </tr>\n",
       "    <tr>\n",
       "      <th>3</th>\n",
       "      <td>191921269</td>\n",
       "      <td>01-01-2020</td>\n",
       "      <td>01-01-2020</td>\n",
       "      <td>Mission</td>\n",
       "      <td>740</td>\n",
       "      <td>VANDALISM - FELONY ($400 &amp; OVER, ALL CHURCH VA...</td>\n",
       "      <td>31</td>\n",
       "      <td>X</td>\n",
       "      <td>BEAUTY SUPPLY STORE</td>\n",
       "      <td>IC</td>\n",
       "      <td>14400 TITUS ST</td>\n",
       "      <td>34.22</td>\n",
       "      <td>-118.45</td>\n",
       "    </tr>\n",
       "    <tr>\n",
       "      <th>4</th>\n",
       "      <td>200100502</td>\n",
       "      <td>01-02-2020</td>\n",
       "      <td>01-02-2020</td>\n",
       "      <td>Central</td>\n",
       "      <td>442</td>\n",
       "      <td>SHOPLIFTING - PETTY THEFT ($950 &amp; UNDER)</td>\n",
       "      <td>23</td>\n",
       "      <td>M</td>\n",
       "      <td>DEPARTMENT STORE</td>\n",
       "      <td>IC</td>\n",
       "      <td>700 S FIGUEROA ST</td>\n",
       "      <td>34.05</td>\n",
       "      <td>-118.26</td>\n",
       "    </tr>\n",
       "    <tr>\n",
       "      <th>...</th>\n",
       "      <td>...</td>\n",
       "      <td>...</td>\n",
       "      <td>...</td>\n",
       "      <td>...</td>\n",
       "      <td>...</td>\n",
       "      <td>...</td>\n",
       "      <td>...</td>\n",
       "      <td>...</td>\n",
       "      <td>...</td>\n",
       "      <td>...</td>\n",
       "      <td>...</td>\n",
       "      <td>...</td>\n",
       "      <td>...</td>\n",
       "    </tr>\n",
       "    <tr>\n",
       "      <th>494</th>\n",
       "      <td>200106614</td>\n",
       "      <td>02-07-2020</td>\n",
       "      <td>02-07-2020</td>\n",
       "      <td>Central</td>\n",
       "      <td>624</td>\n",
       "      <td>BATTERY - SIMPLE ASSAULT</td>\n",
       "      <td>33</td>\n",
       "      <td>M</td>\n",
       "      <td>SIDEWALK</td>\n",
       "      <td>IC</td>\n",
       "      <td>2400 ELLENDALE PL</td>\n",
       "      <td>34.05</td>\n",
       "      <td>-118.26</td>\n",
       "    </tr>\n",
       "    <tr>\n",
       "      <th>495</th>\n",
       "      <td>200106615</td>\n",
       "      <td>02-07-2020</td>\n",
       "      <td>02-07-2020</td>\n",
       "      <td>Central</td>\n",
       "      <td>624</td>\n",
       "      <td>BATTERY - SIMPLE ASSAULT</td>\n",
       "      <td>25</td>\n",
       "      <td>M</td>\n",
       "      <td>SIDEWALK</td>\n",
       "      <td>IC</td>\n",
       "      <td>39TH PL</td>\n",
       "      <td>34.05</td>\n",
       "      <td>-118.26</td>\n",
       "    </tr>\n",
       "    <tr>\n",
       "      <th>496</th>\n",
       "      <td>200106616</td>\n",
       "      <td>02-07-2020</td>\n",
       "      <td>02-07-2020</td>\n",
       "      <td>Central</td>\n",
       "      <td>624</td>\n",
       "      <td>BATTERY - SIMPLE ASSAULT</td>\n",
       "      <td>35</td>\n",
       "      <td>M</td>\n",
       "      <td>OTHER STORE</td>\n",
       "      <td>IC</td>\n",
       "      <td>2500 W VERNON AV</td>\n",
       "      <td>34.05</td>\n",
       "      <td>-118.25</td>\n",
       "    </tr>\n",
       "    <tr>\n",
       "      <th>497</th>\n",
       "      <td>200106617</td>\n",
       "      <td>02-07-2020</td>\n",
       "      <td>01-10-2020</td>\n",
       "      <td>Central</td>\n",
       "      <td>510</td>\n",
       "      <td>VEHICLE - STOLEN</td>\n",
       "      <td>0</td>\n",
       "      <td>F</td>\n",
       "      <td>PARKING LOT</td>\n",
       "      <td>IC</td>\n",
       "      <td>700 EXPOSITION BL</td>\n",
       "      <td>34.05</td>\n",
       "      <td>-118.25</td>\n",
       "    </tr>\n",
       "    <tr>\n",
       "      <th>498</th>\n",
       "      <td>200106618</td>\n",
       "      <td>02-07-2020</td>\n",
       "      <td>02-03-2020</td>\n",
       "      <td>Central</td>\n",
       "      <td>745</td>\n",
       "      <td>VANDALISM - MISDEAMEANOR ($399 OR UNDER)</td>\n",
       "      <td>72</td>\n",
       "      <td>M</td>\n",
       "      <td>VEHICLE, PASSENGER/TRUCK</td>\n",
       "      <td>IC</td>\n",
       "      <td>2600 S FIGUEROA ST</td>\n",
       "      <td>34.05</td>\n",
       "      <td>-118.24</td>\n",
       "    </tr>\n",
       "  </tbody>\n",
       "</table>\n",
       "<p>499 rows × 13 columns</p>\n",
       "</div>"
      ],
      "text/plain": [
       "         DR_NO   Date_Rptd    DATE_OCC    AREA_NAME  Crm_Cd  \\\n",
       "0     10304468  01-08-2020  01-08-2020    Southwest     624   \n",
       "1    190101086  01-02-2020  01-01-2020      Central     624   \n",
       "2    191501505  01-01-2020  01-01-2020  N Hollywood     745   \n",
       "3    191921269  01-01-2020  01-01-2020      Mission     740   \n",
       "4    200100502  01-02-2020  01-02-2020      Central     442   \n",
       "..         ...         ...         ...          ...     ...   \n",
       "494  200106614  02-07-2020  02-07-2020      Central     624   \n",
       "495  200106615  02-07-2020  02-07-2020      Central     624   \n",
       "496  200106616  02-07-2020  02-07-2020      Central     624   \n",
       "497  200106617  02-07-2020  01-10-2020      Central     510   \n",
       "498  200106618  02-07-2020  02-03-2020      Central     745   \n",
       "\n",
       "                                           Crm_Cd_Desc  Vict_Age Vict_Sex  \\\n",
       "0                             BATTERY - SIMPLE ASSAULT        36        F   \n",
       "1                             BATTERY - SIMPLE ASSAULT        25        M   \n",
       "2             VANDALISM - MISDEAMEANOR ($399 OR UNDER)        76        F   \n",
       "3    VANDALISM - FELONY ($400 & OVER, ALL CHURCH VA...        31        X   \n",
       "4             SHOPLIFTING - PETTY THEFT ($950 & UNDER)        23        M   \n",
       "..                                                 ...       ...      ...   \n",
       "494                           BATTERY - SIMPLE ASSAULT        33        M   \n",
       "495                           BATTERY - SIMPLE ASSAULT        25        M   \n",
       "496                           BATTERY - SIMPLE ASSAULT        35        M   \n",
       "497                                   VEHICLE - STOLEN         0        F   \n",
       "498           VANDALISM - MISDEAMEANOR ($399 OR UNDER)        72        M   \n",
       "\n",
       "                                      Premis_Desc Status            Location  \\\n",
       "0                          SINGLE FAMILY DWELLING     AO      1100 W 39TH PL   \n",
       "1                                        SIDEWALK     IC       700 S HILL ST   \n",
       "2    MULTI-UNIT DWELLING (APARTMENT, DUPLEX, ETC)     IC     5400 CORTEEN PL   \n",
       "3                             BEAUTY SUPPLY STORE     IC      14400 TITUS ST   \n",
       "4                                DEPARTMENT STORE     IC   700 S FIGUEROA ST   \n",
       "..                                            ...    ...                 ...   \n",
       "494                                      SIDEWALK     IC   2400 ELLENDALE PL   \n",
       "495                                      SIDEWALK     IC             39TH PL   \n",
       "496                                   OTHER STORE     IC    2500 W VERNON AV   \n",
       "497                                   PARKING LOT     IC   700 EXPOSITION BL   \n",
       "498                      VEHICLE, PASSENGER/TRUCK     IC  2600 S FIGUEROA ST   \n",
       "\n",
       "       LAT     LON  \n",
       "0    34.01 -118.30  \n",
       "1    34.05 -118.25  \n",
       "2    34.17 -118.40  \n",
       "3    34.22 -118.45  \n",
       "4    34.05 -118.26  \n",
       "..     ...     ...  \n",
       "494  34.05 -118.26  \n",
       "495  34.05 -118.26  \n",
       "496  34.05 -118.25  \n",
       "497  34.05 -118.25  \n",
       "498  34.05 -118.24  \n",
       "\n",
       "[499 rows x 13 columns]"
      ]
     },
     "execution_count": 16,
     "metadata": {},
     "output_type": "execute_result"
    }
   ],
   "source": [
    "query = \"select * from crime_data\"\n",
    "df = pd.read_sql(query, connection)\n",
    "df"
   ]
  },
  {
   "cell_type": "code",
   "execution_count": 75,
   "id": "38e3c1f0-e054-4aa4-9622-7a2a5e75e249",
   "metadata": {},
   "outputs": [
    {
     "data": {
      "image/png": "[encoded data removed]",
      "text/plain": [
       "<Figure size 640x480 with 1 Axes>"
      ]
     },
     "metadata": {},
     "output_type": "display_data"
    }
   ],
   "source": [
    "plt.scatter(df[\"LAT\"], df[\"LON\"], color=\"green\", label=\"LAT vs LON\")\n",
    "\n",
    "plt.xlabel(\"LAT\")\n",
    "plt.ylabel(\"LON\")\n",
    "plt.legend()\n",
    "\n",
    "plt.show()"
   ]
  },
  {
   "cell_type": "code",
   "execution_count": 28,
   "id": "1d56525f-901b-4630-b979-f31b94a6f0c5",
   "metadata": {},
   "outputs": [
    {
     "data": {
      "image/png": "[encoded data removed]",
      "text/plain": [
       "<Figure size 640x480 with 1 Axes>"
      ]
     },
     "metadata": {},
     "output_type": "display_data"
    }
   ],
   "source": [
    "# What is the distribution of victim ages in reported crimes?\n",
    "\n",
    "sns.boxplot( df[\"Vict_Age\"])\n",
    "plt.show()"
   ]
  },
  {
   "cell_type": "code",
   "execution_count": 26,
   "id": "fd3cea6f-f84a-4d22-90fa-cd1343786ffd",
   "metadata": {},
   "outputs": [
    {
     "data": {
      "image/png": "[encoded data removed]",
      "text/plain": [
       "<Figure size 640x480 with 1 Axes>"
      ]
     },
     "metadata": {},
     "output_type": "display_data"
    }
   ],
   "source": [
    "#  Is there a significant difference in crime rates between male and female victims?\n",
    "\n",
    "sns.lineplot(x = df[\"Vict_Sex\"], y= df[\"Vict_Age\"])\n",
    "plt.show()"
   ]
  },
  {
   "cell_type": "code",
   "execution_count": 60,
   "id": "5a43e07e-6c8c-4753-b5ac-4302377f40cd",
   "metadata": {},
   "outputs": [
    {
     "data": {
      "text/plain": [
       "Location\n",
       "800 N ALAMEDA ST      14\n",
       "700 W 7TH ST          11\n",
       "1100 S FIGUEROA ST     6\n",
       "300 E 5TH ST           6\n",
       "6TH                    6\n",
       "                      ..\n",
       "14600 VANOWEN ST       1\n",
       "600 N ALAMEDA ST       1\n",
       "FLOWER                 1\n",
       "400 COLYTON ST         1\n",
       "2600 S FIGUEROA ST     1\n",
       "Name: count, Length: 365, dtype: int64"
      ]
     },
     "execution_count": 60,
     "metadata": {},
     "output_type": "execute_result"
    }
   ],
   "source": [
    "# Where do most crimes occur based on the \"Location\" column? \n",
    "\n",
    "\n",
    "locationwise_count = df[\"Location\"].value_counts()\n",
    "locationwise_count\n"
   ]
  },
  {
   "cell_type": "code",
   "execution_count": 64,
   "id": "2f126edb-7a48-41a8-9b05-093cc6f48b5e",
   "metadata": {},
   "outputs": [
    {
     "data": {
      "application/vnd.plotly.v1+json": {
       "config": {
        "plotlyServerURL": "https://plot.ly"
       },
       "data": [
        {
         "hovertemplate": "Crm_Cd_Desc=%{x}<br>Crm_Cd=%{y}<extra></extra>",
         "legendgroup": "",
         "marker": {
          "color": "#636efa",
          "symbol": "circle"
         },
         "mode": "markers",
         "name": "",
         "orientation": "v",
         "showlegend": false,
         "type": "scatter",
         "x": [
          "BATTERY - SIMPLE ASSAULT",
          "BATTERY - SIMPLE ASSAULT",
          "VANDALISM - MISDEAMEANOR ($399 OR UNDER)",
          "VANDALISM - FELONY ($400 & OVER, ALL CHURCH VANDALISMS)",
          "SHOPLIFTING - PETTY THEFT ($950 & UNDER)",
          "OTHER MISCELLANEOUS CRIME",
          "THEFT-GRAND ($950.01 & OVER)EXCPT,GUNS,FOWL,LIVESTK,PROD",
          "BURGLARY FROM VEHICLE",
          "CRIMINAL THREATS - NO WEAPON DISPLAYED",
          "THEFT-GRAND ($950.01 & OVER)EXCPT,GUNS,FOWL,LIVESTK,PROD",
          "ARSON",
          "SHOPLIFTING - PETTY THEFT ($950 & UNDER)",
          "THEFT OF IDENTITY",
          "SHOPLIFTING - PETTY THEFT ($950 & UNDER)",
          "ASSAULT WITH DEADLY WEAPON, AGGRAVATED ASSAULT",
          "SHOPLIFTING - PETTY THEFT ($950 & UNDER)",
          "VANDALISM - FELONY ($400 & OVER, ALL CHURCH VANDALISMS)",
          "BRANDISH WEAPON",
          "SHOPLIFTING - PETTY THEFT ($950 & UNDER)",
          "THEFT, PERSON",
          "VANDALISM - FELONY ($400 & OVER, ALL CHURCH VANDALISMS)",
          "CRIMINAL THREATS - NO WEAPON DISPLAYED",
          "BURGLARY",
          "ASSAULT WITH DEADLY WEAPON, AGGRAVATED ASSAULT",
          "VANDALISM - MISDEAMEANOR ($399 OR UNDER)",
          "BIKE - STOLEN",
          "VANDALISM - MISDEAMEANOR ($399 OR UNDER)",
          "BATTERY POLICE (SIMPLE)",
          "BATTERY POLICE (SIMPLE)",
          "THEFT PLAIN - PETTY ($950 & UNDER)",
          "BATTERY - SIMPLE ASSAULT",
          "ASSAULT WITH DEADLY WEAPON, AGGRAVATED ASSAULT",
          "BATTERY - SIMPLE ASSAULT",
          "BATTERY - SIMPLE ASSAULT",
          "THEFT-GRAND ($950.01 & OVER)EXCPT,GUNS,FOWL,LIVESTK,PROD",
          "VANDALISM - MISDEAMEANOR ($399 OR UNDER)",
          "VANDALISM - MISDEAMEANOR ($399 OR UNDER)",
          "BURGLARY",
          "VEHICLE - STOLEN",
          "THEFT PLAIN - PETTY ($950 & UNDER)",
          "THEFT-GRAND ($950.01 & OVER)EXCPT,GUNS,FOWL,LIVESTK,PROD",
          "BURGLARY FROM VEHICLE",
          "ROBBERY",
          "BATTERY - SIMPLE ASSAULT",
          "SHOPLIFTING - PETTY THEFT ($950 & UNDER)",
          "BURGLARY",
          "VIOLATION OF COURT ORDER",
          "ROBBERY",
          "BATTERY - SIMPLE ASSAULT",
          "BURGLARY",
          "SHOPLIFTING - PETTY THEFT ($950 & UNDER)",
          "TRESPASSING",
          "ASSAULT WITH DEADLY WEAPON, AGGRAVATED ASSAULT",
          "BURGLARY FROM VEHICLE",
          "THEFT PLAIN - PETTY ($950 & UNDER)",
          "ASSAULT WITH DEADLY WEAPON, AGGRAVATED ASSAULT",
          "ASSAULT WITH DEADLY WEAPON, AGGRAVATED ASSAULT",
          "TRESPASSING",
          "BATTERY - SIMPLE ASSAULT",
          "BATTERY - SIMPLE ASSAULT",
          "VEHICLE - STOLEN",
          "SHOPLIFTING - PETTY THEFT ($950 & UNDER)",
          "THEFT OF IDENTITY",
          "VANDALISM - MISDEAMEANOR ($399 OR UNDER)",
          "BURGLARY FROM VEHICLE",
          "THEFT PLAIN - PETTY ($950 & UNDER)",
          "THEFT PLAIN - PETTY ($950 & UNDER)",
          "VANDALISM - MISDEAMEANOR ($399 OR UNDER)",
          "BATTERY - SIMPLE ASSAULT",
          "BRANDISH WEAPON",
          "VANDALISM - FELONY ($400 & OVER, ALL CHURCH VANDALISMS)",
          "VANDALISM - MISDEAMEANOR ($399 OR UNDER)",
          "SHOPLIFTING - PETTY THEFT ($950 & UNDER)",
          "SHOPLIFTING - PETTY THEFT ($950 & UNDER)",
          "ROBBERY",
          "THEFT FROM MOTOR VEHICLE - PETTY ($950 & UNDER)",
          "ASSAULT WITH DEADLY WEAPON, AGGRAVATED ASSAULT",
          "THEFT-GRAND ($950.01 & OVER)EXCPT,GUNS,FOWL,LIVESTK,PROD",
          "THEFT PLAIN - PETTY ($950 & UNDER)",
          "BURGLARY FROM VEHICLE",
          "BURGLARY FROM VEHICLE",
          "BURGLARY FROM VEHICLE",
          "BURGLARY FROM VEHICLE",
          "ROBBERY",
          "BATTERY - SIMPLE ASSAULT",
          "VEHICLE - STOLEN",
          "BATTERY - SIMPLE ASSAULT",
          "BATTERY - SIMPLE ASSAULT",
          "BURGLARY FROM VEHICLE",
          "DISTURBING THE PEACE",
          "SHOPLIFTING - PETTY THEFT ($950 & UNDER)",
          "THEFT PLAIN - PETTY ($950 & UNDER)",
          "BURGLARY FROM VEHICLE",
          "SHOPLIFTING - PETTY THEFT ($950 & UNDER)",
          "THEFT PLAIN - PETTY ($950 & UNDER)",
          "SHOPLIFTING - PETTY THEFT ($950 & UNDER)",
          "TRESPASSING",
          "BATTERY - SIMPLE ASSAULT",
          "BURGLARY FROM VEHICLE",
          "BATTERY - SIMPLE ASSAULT",
          "THEFT PLAIN - PETTY ($950 & UNDER)",
          "ROBBERY",
          "THEFT PLAIN - PETTY ($950 & UNDER)",
          "THEFT FROM MOTOR VEHICLE - PETTY ($950 & UNDER)",
          "VANDALISM - FELONY ($400 & OVER, ALL CHURCH VANDALISMS)",
          "THEFT PLAIN - PETTY ($950 & UNDER)",
          "VEHICLE - STOLEN",
          "BATTERY - SIMPLE ASSAULT",
          "THEFT-GRAND ($950.01 & OVER)EXCPT,GUNS,FOWL,LIVESTK,PROD",
          "CRIMINAL THREATS - NO WEAPON DISPLAYED",
          "BATTERY POLICE (SIMPLE)",
          "BURGLARY FROM VEHICLE",
          "BURGLARY FROM VEHICLE",
          "THEFT FROM MOTOR VEHICLE - PETTY ($950 & UNDER)",
          "VANDALISM - FELONY ($400 & OVER, ALL CHURCH VANDALISMS)",
          "ROBBERY",
          "THEFT, PERSON",
          "THEFT FROM MOTOR VEHICLE - ATTEMPT",
          "TRESPASSING",
          "BATTERY - SIMPLE ASSAULT",
          "TRESPASSING",
          "OTHER MISCELLANEOUS CRIME",
          "THROWING OBJECT AT MOVING VEHICLE",
          "THEFT PLAIN - PETTY ($950 & UNDER)",
          "VANDALISM - MISDEAMEANOR ($399 OR UNDER)",
          "BURGLARY",
          "BURGLARY FROM VEHICLE",
          "THEFT FROM MOTOR VEHICLE - PETTY ($950 & UNDER)",
          "ASSAULT WITH DEADLY WEAPON, AGGRAVATED ASSAULT",
          "EXTORTION",
          "ASSAULT WITH DEADLY WEAPON, AGGRAVATED ASSAULT",
          "BURGLARY FROM VEHICLE",
          "BATTERY - SIMPLE ASSAULT",
          "BATTERY - SIMPLE ASSAULT",
          "VEHICLE - STOLEN",
          "SHOPLIFTING - PETTY THEFT ($950 & UNDER)",
          "BURGLARY FROM VEHICLE",
          "BURGLARY FROM VEHICLE",
          "THEFT OF IDENTITY",
          "BIKE - STOLEN",
          "BATTERY - SIMPLE ASSAULT",
          "BURGLARY FROM VEHICLE",
          "BATTERY - SIMPLE ASSAULT",
          "BUNCO, GRAND THEFT",
          "VEHICLE - STOLEN",
          "VANDALISM - MISDEAMEANOR ($399 OR UNDER)",
          "BURGLARY FROM VEHICLE",
          "CRIMINAL THREATS - NO WEAPON DISPLAYED",
          "THEFT PLAIN - PETTY ($950 & UNDER)",
          "VANDALISM - MISDEAMEANOR ($399 OR UNDER)",
          "BURGLARY FROM VEHICLE",
          "TRESPASSING",
          "BIKE - STOLEN",
          "BURGLARY FROM VEHICLE",
          "THEFT PLAIN - PETTY ($950 & UNDER)",
          "BURGLARY FROM VEHICLE",
          "BURGLARY FROM VEHICLE",
          "BURGLARY FROM VEHICLE",
          "BURGLARY FROM VEHICLE",
          "BATTERY - SIMPLE ASSAULT",
          "VANDALISM - FELONY ($400 & OVER, ALL CHURCH VANDALISMS)",
          "VANDALISM - FELONY ($400 & OVER, ALL CHURCH VANDALISMS)",
          "BATTERY - SIMPLE ASSAULT",
          "BURGLARY FROM VEHICLE",
          "THEFT-GRAND ($950.01 & OVER)EXCPT,GUNS,FOWL,LIVESTK,PROD",
          "BURGLARY FROM VEHICLE",
          "BIKE - STOLEN",
          "THEFT PLAIN - PETTY ($950 & UNDER)",
          "TRESPASSING",
          "VANDALISM - FELONY ($400 & OVER, ALL CHURCH VANDALISMS)",
          "BURGLARY FROM VEHICLE",
          "CRIMINAL THREATS - NO WEAPON DISPLAYED",
          "SHOPLIFTING - PETTY THEFT ($950 & UNDER)",
          "BATTERY - SIMPLE ASSAULT",
          "ATTEMPTED ROBBERY",
          "BURGLARY FROM VEHICLE",
          "OTHER ASSAULT",
          "THEFT, PERSON",
          "BOMB SCARE",
          "SHOPLIFTING - PETTY THEFT ($950 & UNDER)",
          "VEHICLE - STOLEN",
          "BURGLARY FROM VEHICLE",
          "BATTERY - SIMPLE ASSAULT",
          "BATTERY - SIMPLE ASSAULT",
          "THEFT PLAIN - PETTY ($950 & UNDER)",
          "BATTERY - SIMPLE ASSAULT",
          "THEFT-GRAND ($950.01 & OVER)EXCPT,GUNS,FOWL,LIVESTK,PROD",
          "THEFT-GRAND ($950.01 & OVER)EXCPT,GUNS,FOWL,LIVESTK,PROD",
          "THEFT PLAIN - PETTY ($950 & UNDER)",
          "THEFT PLAIN - PETTY ($950 & UNDER)",
          "VANDALISM - FELONY ($400 & OVER, ALL CHURCH VANDALISMS)",
          "BRANDISH WEAPON",
          "THEFT OF IDENTITY",
          "THEFT PLAIN - PETTY ($950 & UNDER)",
          "BURGLARY FROM VEHICLE",
          "THEFT PLAIN - PETTY ($950 & UNDER)",
          "VEHICLE - STOLEN",
          "TRESPASSING",
          "BURGLARY",
          "BIKE - STOLEN",
          "THEFT-GRAND ($950.01 & OVER)EXCPT,GUNS,FOWL,LIVESTK,PROD",
          "BUNCO, GRAND THEFT",
          "THEFT PLAIN - PETTY ($950 & UNDER)",
          "SHOPLIFTING - PETTY THEFT ($950 & UNDER)",
          "BATTERY - SIMPLE ASSAULT",
          "VANDALISM - MISDEAMEANOR ($399 OR UNDER)",
          "BIKE - STOLEN",
          "ATTEMPTED ROBBERY",
          "BURGLARY FROM VEHICLE",
          "BURGLARY FROM VEHICLE",
          "BURGLARY FROM VEHICLE",
          "THEFT-GRAND ($950.01 & OVER)EXCPT,GUNS,FOWL,LIVESTK,PROD",
          "DOCUMENT FORGERY / STOLEN FELONY",
          "ROBBERY",
          "VIOLATION OF RESTRAINING ORDER",
          "BATTERY - SIMPLE ASSAULT",
          "OTHER MISCELLANEOUS CRIME",
          "VANDALISM - FELONY ($400 & OVER, ALL CHURCH VANDALISMS)",
          "SHOPLIFTING - PETTY THEFT ($950 & UNDER)",
          "BURGLARY FROM VEHICLE",
          "THEFT-GRAND ($950.01 & OVER)EXCPT,GUNS,FOWL,LIVESTK,PROD",
          "THEFT PLAIN - PETTY ($950 & UNDER)",
          "THEFT PLAIN - PETTY ($950 & UNDER)",
          "ROBBERY",
          "THEFT, PERSON",
          "BATTERY - SIMPLE ASSAULT",
          "BURGLARY FROM VEHICLE",
          "BURGLARY FROM VEHICLE",
          "VANDALISM - MISDEAMEANOR ($399 OR UNDER)",
          "BURGLARY FROM VEHICLE",
          "BURGLARY FROM VEHICLE",
          "VIOLATION OF COURT ORDER",
          "VEHICLE - STOLEN",
          "BURGLARY FROM VEHICLE",
          "BATTERY - SIMPLE ASSAULT",
          "THEFT-GRAND ($950.01 & OVER)EXCPT,GUNS,FOWL,LIVESTK,PROD",
          "VEHICLE - STOLEN",
          "BURGLARY",
          "BATTERY - SIMPLE ASSAULT",
          "VEHICLE - STOLEN",
          "ATTEMPTED ROBBERY",
          "VEHICLE - STOLEN",
          "ASSAULT WITH DEADLY WEAPON, AGGRAVATED ASSAULT",
          "ASSAULT WITH DEADLY WEAPON, AGGRAVATED ASSAULT",
          "BATTERY - SIMPLE ASSAULT",
          "ASSAULT WITH DEADLY WEAPON, AGGRAVATED ASSAULT",
          "BURGLARY FROM VEHICLE",
          "VANDALISM - FELONY ($400 & OVER, ALL CHURCH VANDALISMS)",
          "THEFT-GRAND ($950.01 & OVER)EXCPT,GUNS,FOWL,LIVESTK,PROD",
          "BURGLARY, ATTEMPTED",
          "VANDALISM - FELONY ($400 & OVER, ALL CHURCH VANDALISMS)",
          "THEFT PLAIN - PETTY ($950 & UNDER)",
          "VANDALISM - FELONY ($400 & OVER, ALL CHURCH VANDALISMS)",
          "THEFT PLAIN - PETTY ($950 & UNDER)",
          "BATTERY - SIMPLE ASSAULT",
          "BATTERY - SIMPLE ASSAULT",
          "THEFT OF IDENTITY",
          "BURGLARY FROM VEHICLE",
          "BURGLARY FROM VEHICLE",
          "VEHICLE - STOLEN",
          "BURGLARY FROM VEHICLE",
          "VANDALISM - FELONY ($400 & OVER, ALL CHURCH VANDALISMS)",
          "BUNCO, GRAND THEFT",
          "THEFT PLAIN - PETTY ($950 & UNDER)",
          "THEFT, PERSON",
          "BATTERY - SIMPLE ASSAULT",
          "BATTERY - SIMPLE ASSAULT",
          "THEFT PLAIN - PETTY ($950 & UNDER)",
          "BRANDISH WEAPON",
          "TRESPASSING",
          "SHOPLIFTING - PETTY THEFT ($950 & UNDER)",
          "BATTERY - SIMPLE ASSAULT",
          "BATTERY - SIMPLE ASSAULT",
          "BATTERY - SIMPLE ASSAULT",
          "BATTERY - SIMPLE ASSAULT",
          "BATTERY - SIMPLE ASSAULT",
          "BATTERY - SIMPLE ASSAULT",
          "BURGLARY FROM VEHICLE",
          "BURGLARY FROM VEHICLE",
          "THEFT-GRAND ($950.01 & OVER)EXCPT,GUNS,FOWL,LIVESTK,PROD",
          "BIKE - STOLEN",
          "THEFT, PERSON",
          "THEFT-GRAND ($950.01 & OVER)EXCPT,GUNS,FOWL,LIVESTK,PROD",
          "VANDALISM - FELONY ($400 & OVER, ALL CHURCH VANDALISMS)",
          "ASSAULT WITH DEADLY WEAPON, AGGRAVATED ASSAULT",
          "VIOLATION OF RESTRAINING ORDER",
          "VANDALISM - FELONY ($400 & OVER, ALL CHURCH VANDALISMS)",
          "TRESPASSING",
          "BURGLARY FROM VEHICLE",
          "BURGLARY FROM VEHICLE",
          "ASSAULT WITH DEADLY WEAPON, AGGRAVATED ASSAULT",
          "VANDALISM - FELONY ($400 & OVER, ALL CHURCH VANDALISMS)",
          "CRIMINAL THREATS - NO WEAPON DISPLAYED",
          "SHOPLIFTING - PETTY THEFT ($950 & UNDER)",
          "BURGLARY",
          "THEFT, PERSON",
          "THEFT PLAIN - PETTY ($950 & UNDER)",
          "THEFT FROM MOTOR VEHICLE - PETTY ($950 & UNDER)",
          "THEFT-GRAND ($950.01 & OVER)EXCPT,GUNS,FOWL,LIVESTK,PROD",
          "ROBBERY",
          "BURGLARY FROM VEHICLE",
          "BURGLARY FROM VEHICLE",
          "BATTERY - SIMPLE ASSAULT",
          "BATTERY - SIMPLE ASSAULT",
          "BURGLARY FROM VEHICLE",
          "BURGLARY FROM VEHICLE",
          "VANDALISM - FELONY ($400 & OVER, ALL CHURCH VANDALISMS)",
          "TRESPASSING",
          "ROBBERY",
          "THEFT PLAIN - PETTY ($950 & UNDER)",
          "FAILURE TO YIELD",
          "TRESPASSING",
          "PURSE SNATCHING",
          "THEFT-GRAND ($950.01 & OVER)EXCPT,GUNS,FOWL,LIVESTK,PROD",
          "BIKE - STOLEN",
          "THEFT PLAIN - PETTY ($950 & UNDER)",
          "OTHER MISCELLANEOUS CRIME",
          "LETTERS, LEWD  -  TELEPHONE CALLS, LEWD",
          "BURGLARY FROM VEHICLE",
          "BATTERY - SIMPLE ASSAULT",
          "BATTERY - SIMPLE ASSAULT",
          "VEHICLE - STOLEN",
          "BURGLARY FROM VEHICLE",
          "THEFT-GRAND ($950.01 & OVER)EXCPT,GUNS,FOWL,LIVESTK,PROD",
          "BURGLARY FROM VEHICLE",
          "VANDALISM - FELONY ($400 & OVER, ALL CHURCH VANDALISMS)",
          "BURGLARY FROM VEHICLE",
          "BURGLARY FROM VEHICLE",
          "TRESPASSING",
          "ORAL COPULATION",
          "THEFT OF IDENTITY",
          "ROBBERY",
          "VEHICLE - STOLEN",
          "THEFT OF IDENTITY",
          "THEFT OF IDENTITY",
          "DISTURBING THE PEACE",
          "THEFT-GRAND ($950.01 & OVER)EXCPT,GUNS,FOWL,LIVESTK,PROD",
          "VANDALISM - FELONY ($400 & OVER, ALL CHURCH VANDALISMS)",
          "VEHICLE - STOLEN",
          "THEFT FROM MOTOR VEHICLE - PETTY ($950 & UNDER)",
          "ARSON",
          "CRM AGNST CHLD (13 OR UNDER) (14-15 & SUSP 10 YRS OLDER)",
          "VEHICLE - STOLEN",
          "VEHICLE - STOLEN",
          "BURGLARY FROM VEHICLE",
          "VEHICLE - STOLEN",
          "BATTERY - SIMPLE ASSAULT",
          "BURGLARY FROM VEHICLE",
          "BURGLARY",
          "THEFT-GRAND ($950.01 & OVER)EXCPT,GUNS,FOWL,LIVESTK,PROD",
          "CRIMINAL THREATS - NO WEAPON DISPLAYED",
          "BATTERY - SIMPLE ASSAULT",
          "ASSAULT WITH DEADLY WEAPON, AGGRAVATED ASSAULT",
          "VEHICLE - STOLEN",
          "VEHICLE - STOLEN",
          "ASSAULT WITH DEADLY WEAPON, AGGRAVATED ASSAULT",
          "BURGLARY, ATTEMPTED",
          "VANDALISM - MISDEAMEANOR ($399 OR UNDER)",
          "VIOLATION OF RESTRAINING ORDER",
          "ATTEMPTED ROBBERY",
          "THEFT PLAIN - PETTY ($950 & UNDER)",
          "TRESPASSING",
          "VANDALISM - MISDEAMEANOR ($399 OR UNDER)",
          "BATTERY - SIMPLE ASSAULT",
          "VANDALISM - FELONY ($400 & OVER, ALL CHURCH VANDALISMS)",
          "THEFT FROM MOTOR VEHICLE - PETTY ($950 & UNDER)",
          "SHOPLIFTING - PETTY THEFT ($950 & UNDER)",
          "ASSAULT WITH DEADLY WEAPON, AGGRAVATED ASSAULT",
          "OTHER ASSAULT",
          "TRESPASSING",
          "ASSAULT WITH DEADLY WEAPON, AGGRAVATED ASSAULT",
          "THEFT PLAIN - PETTY ($950 & UNDER)",
          "BURGLARY FROM VEHICLE",
          "ASSAULT WITH DEADLY WEAPON, AGGRAVATED ASSAULT",
          "BATTERY - SIMPLE ASSAULT",
          "BATTERY - SIMPLE ASSAULT",
          "BATTERY - SIMPLE ASSAULT",
          "BATTERY - SIMPLE ASSAULT",
          "BURGLARY FROM VEHICLE",
          "THEFT-GRAND ($950.01 & OVER)EXCPT,GUNS,FOWL,LIVESTK,PROD",
          "THEFT-GRAND ($950.01 & OVER)EXCPT,GUNS,FOWL,LIVESTK,PROD",
          "THEFT OF IDENTITY",
          "ASSAULT WITH DEADLY WEAPON, AGGRAVATED ASSAULT",
          "BURGLARY FROM VEHICLE",
          "BURGLARY FROM VEHICLE",
          "THEFT, PERSON",
          "BATTERY - SIMPLE ASSAULT",
          "THEFT PLAIN - PETTY ($950 & UNDER)",
          "THEFT PLAIN - PETTY ($950 & UNDER)",
          "VEHICLE - STOLEN",
          "SHOPLIFTING - PETTY THEFT ($950 & UNDER)",
          "BATTERY POLICE (SIMPLE)",
          "THEFT PLAIN - PETTY ($950 & UNDER)",
          "VANDALISM - MISDEAMEANOR ($399 OR UNDER)",
          "BURGLARY",
          "BURGLARY FROM VEHICLE",
          "TRESPASSING",
          "THEFT FROM MOTOR VEHICLE - PETTY ($950 & UNDER)",
          "ASSAULT WITH DEADLY WEAPON, AGGRAVATED ASSAULT",
          "KIDNAPPING - GRAND ATTEMPT",
          "ASSAULT WITH DEADLY WEAPON, AGGRAVATED ASSAULT",
          "BURGLARY FROM VEHICLE",
          "VANDALISM - MISDEAMEANOR ($399 OR UNDER)",
          "THEFT PLAIN - PETTY ($950 & UNDER)",
          "BURGLARY",
          "THEFT, PERSON",
          "BATTERY - SIMPLE ASSAULT",
          "VANDALISM - MISDEAMEANOR ($399 OR UNDER)",
          "BATTERY - SIMPLE ASSAULT",
          "VANDALISM - MISDEAMEANOR ($399 OR UNDER)",
          "ROBBERY",
          "BATTERY - SIMPLE ASSAULT",
          "BURGLARY FROM VEHICLE",
          "BIKE - STOLEN",
          "THEFT PLAIN - PETTY ($950 & UNDER)",
          "VANDALISM - MISDEAMEANOR ($399 OR UNDER)",
          "BURGLARY FROM VEHICLE",
          "BATTERY - SIMPLE ASSAULT",
          "BATTERY - SIMPLE ASSAULT",
          "BURGLARY FROM VEHICLE",
          "BIKE - STOLEN",
          "SHOPLIFTING - PETTY THEFT ($950 & UNDER)",
          "ARSON",
          "ASSAULT WITH DEADLY WEAPON, AGGRAVATED ASSAULT",
          "INDECENT EXPOSURE",
          "INDECENT EXPOSURE",
          "BATTERY - SIMPLE ASSAULT",
          "VANDALISM - MISDEAMEANOR ($399 OR UNDER)",
          "VEHICLE - STOLEN",
          "BATTERY - SIMPLE ASSAULT",
          "BATTERY - SIMPLE ASSAULT",
          "BUNCO, ATTEMPT",
          "BURGLARY FROM VEHICLE",
          "BURGLARY FROM VEHICLE",
          "THEFT PLAIN - PETTY ($950 & UNDER)",
          "THEFT PLAIN - PETTY ($950 & UNDER)",
          "BURGLARY FROM VEHICLE",
          "BUNCO, GRAND THEFT",
          "BUNCO, GRAND THEFT",
          "THEFT-GRAND ($950.01 & OVER)EXCPT,GUNS,FOWL,LIVESTK,PROD",
          "LETTERS, LEWD  -  TELEPHONE CALLS, LEWD",
          "BURGLARY FROM VEHICLE",
          "BATTERY POLICE (SIMPLE)",
          "VEHICLE - STOLEN",
          "THEFT OF IDENTITY",
          "BURGLARY FROM VEHICLE",
          "BATTERY - SIMPLE ASSAULT",
          "THEFT FROM MOTOR VEHICLE - PETTY ($950 & UNDER)",
          "PURSE SNATCHING",
          "TRESPASSING",
          "SHOPLIFTING - PETTY THEFT ($950 & UNDER)",
          "BURGLARY",
          "THEFT PLAIN - PETTY ($950 & UNDER)",
          "VANDALISM - MISDEAMEANOR ($399 OR UNDER)",
          "THEFT PLAIN - PETTY ($950 & UNDER)",
          "BURGLARY FROM VEHICLE",
          "BURGLARY",
          "VEHICLE - STOLEN",
          "BURGLARY",
          "BURGLARY FROM VEHICLE",
          "BURGLARY FROM VEHICLE",
          "BRANDISH WEAPON",
          "THEFT-GRAND ($950.01 & OVER)EXCPT,GUNS,FOWL,LIVESTK,PROD",
          "VEHICLE - STOLEN",
          "BURGLARY FROM VEHICLE",
          "BATTERY - SIMPLE ASSAULT",
          "SHOPLIFTING-GRAND THEFT ($950.01 & OVER)",
          "BATTERY - SIMPLE ASSAULT",
          "BURGLARY",
          "BATTERY - SIMPLE ASSAULT",
          "ASSAULT WITH DEADLY WEAPON, AGGRAVATED ASSAULT",
          "THEFT-GRAND ($950.01 & OVER)EXCPT,GUNS,FOWL,LIVESTK,PROD",
          "BURGLARY FROM VEHICLE",
          "BURGLARY FROM VEHICLE",
          "BURGLARY",
          "BURGLARY FROM VEHICLE",
          "BATTERY - SIMPLE ASSAULT",
          "SHOPLIFTING - PETTY THEFT ($950 & UNDER)",
          "BIKE - STOLEN",
          "BATTERY - SIMPLE ASSAULT",
          "TRESPASSING",
          "BURGLARY FROM VEHICLE",
          "BURGLARY FROM VEHICLE",
          "THEFT PLAIN - PETTY ($950 & UNDER)",
          "THEFT PLAIN - PETTY ($950 & UNDER)",
          "VANDALISM - FELONY ($400 & OVER, ALL CHURCH VANDALISMS)",
          "SHOPLIFTING - PETTY THEFT ($950 & UNDER)",
          "THEFT PLAIN - PETTY ($950 & UNDER)",
          "SHOPLIFTING - PETTY THEFT ($950 & UNDER)",
          "SHOPLIFTING - PETTY THEFT ($950 & UNDER)",
          "BATTERY - SIMPLE ASSAULT",
          "TRESPASSING",
          "BATTERY - SIMPLE ASSAULT",
          "VEHICLE - STOLEN",
          "BATTERY - SIMPLE ASSAULT",
          "BATTERY - SIMPLE ASSAULT",
          "BATTERY - SIMPLE ASSAULT",
          "VEHICLE - STOLEN",
          "VANDALISM - MISDEAMEANOR ($399 OR UNDER)"
         ],
         "xaxis": "x",
         "y": [
          624,
          624,
          745,
          740,
          442,
          946,
          341,
          330,
          930,
          341,
          648,
          442,
          354,
          442,
          230,
          442,
          740,
          761,
          442,
          350,
          740,
          930,
          310,
          230,
          745,
          480,
          745,
          623,
          623,
          440,
          624,
          230,
          624,
          624,
          341,
          745,
          745,
          310,
          510,
          440,
          341,
          330,
          210,
          624,
          442,
          310,
          900,
          210,
          624,
          310,
          442,
          888,
          230,
          330,
          440,
          230,
          230,
          888,
          624,
          624,
          510,
          442,
          354,
          745,
          330,
          440,
          440,
          745,
          624,
          761,
          740,
          745,
          442,
          442,
          210,
          420,
          230,
          341,
          440,
          330,
          330,
          330,
          330,
          210,
          624,
          510,
          624,
          624,
          330,
          886,
          442,
          440,
          330,
          442,
          440,
          442,
          888,
          624,
          330,
          624,
          440,
          210,
          440,
          420,
          740,
          440,
          510,
          624,
          341,
          930,
          623,
          330,
          330,
          420,
          740,
          210,
          350,
          421,
          888,
          624,
          888,
          946,
          647,
          440,
          745,
          310,
          330,
          420,
          230,
          940,
          230,
          330,
          624,
          624,
          510,
          442,
          330,
          330,
          354,
          480,
          624,
          330,
          624,
          662,
          510,
          745,
          330,
          930,
          440,
          745,
          330,
          888,
          480,
          330,
          440,
          330,
          330,
          330,
          330,
          624,
          740,
          740,
          624,
          330,
          341,
          330,
          480,
          440,
          888,
          740,
          330,
          930,
          442,
          624,
          220,
          330,
          625,
          350,
          755,
          442,
          510,
          330,
          624,
          624,
          440,
          624,
          341,
          341,
          440,
          440,
          740,
          761,
          354,
          440,
          330,
          440,
          510,
          888,
          310,
          480,
          341,
          662,
          440,
          442,
          624,
          745,
          480,
          220,
          330,
          330,
          330,
          341,
          649,
          210,
          901,
          624,
          946,
          740,
          442,
          330,
          341,
          440,
          440,
          210,
          350,
          624,
          330,
          330,
          745,
          330,
          330,
          900,
          510,
          330,
          624,
          341,
          510,
          310,
          624,
          510,
          220,
          510,
          230,
          230,
          624,
          230,
          330,
          740,
          341,
          320,
          740,
          440,
          740,
          440,
          624,
          624,
          354,
          330,
          330,
          510,
          330,
          740,
          662,
          440,
          350,
          624,
          624,
          440,
          761,
          888,
          442,
          624,
          624,
          624,
          624,
          624,
          624,
          330,
          330,
          341,
          480,
          350,
          341,
          740,
          230,
          901,
          740,
          888,
          330,
          330,
          230,
          740,
          930,
          442,
          310,
          350,
          440,
          420,
          341,
          210,
          330,
          330,
          624,
          624,
          330,
          330,
          740,
          888,
          210,
          440,
          890,
          888,
          351,
          341,
          480,
          440,
          946,
          956,
          330,
          624,
          624,
          510,
          330,
          341,
          330,
          740,
          330,
          330,
          888,
          820,
          354,
          210,
          510,
          354,
          354,
          886,
          341,
          740,
          510,
          420,
          648,
          812,
          510,
          510,
          330,
          510,
          624,
          330,
          310,
          341,
          930,
          624,
          230,
          510,
          510,
          230,
          320,
          745,
          901,
          220,
          440,
          888,
          745,
          624,
          740,
          420,
          442,
          230,
          625,
          888,
          230,
          440,
          330,
          230,
          624,
          624,
          624,
          624,
          330,
          341,
          341,
          354,
          230,
          330,
          330,
          350,
          624,
          440,
          440,
          510,
          442,
          623,
          440,
          745,
          310,
          330,
          888,
          420,
          230,
          920,
          230,
          330,
          745,
          440,
          310,
          350,
          624,
          745,
          624,
          745,
          210,
          624,
          330,
          480,
          440,
          745,
          330,
          624,
          624,
          330,
          480,
          442,
          648,
          230,
          850,
          850,
          624,
          745,
          510,
          624,
          624,
          666,
          330,
          330,
          440,
          440,
          330,
          662,
          662,
          341,
          956,
          330,
          623,
          510,
          354,
          330,
          624,
          420,
          351,
          888,
          442,
          310,
          440,
          745,
          440,
          330,
          310,
          510,
          310,
          330,
          330,
          761,
          341,
          510,
          330,
          624,
          343,
          624,
          310,
          624,
          230,
          341,
          330,
          330,
          310,
          330,
          624,
          442,
          480,
          624,
          888,
          330,
          330,
          440,
          440,
          740,
          442,
          440,
          442,
          442,
          624,
          888,
          624,
          510,
          624,
          624,
          624,
          510,
          745
         ],
         "yaxis": "y"
        }
       ],
       "layout": {
        "autosize": true,
        "legend": {
         "tracegroupgap": 0
        },
        "margin": {
         "t": 60
        },
        "template": {
         "data": {
          "bar": [
           {
            "error_x": {
             "color": "#2a3f5f"
            },
            "error_y": {
             "color": "#2a3f5f"
            },
            "marker": {
             "line": {
              "color": "#E5ECF6",
              "width": 0.5
             },
             "pattern": {
              "fillmode": "overlay",
              "size": 10,
              "solidity": 0.2
             }
            },
            "type": "bar"
           }
          ],
          "barpolar": [
           {
            "marker": {
             "line": {
              "color": "#E5ECF6",
              "width": 0.5
             },
             "pattern": {
              "fillmode": "overlay",
              "size": 10,
              "solidity": 0.2
             }
            },
            "type": "barpolar"
           }
          ],
          "carpet": [
           {
            "aaxis": {
             "endlinecolor": "#2a3f5f",
             "gridcolor": "white",
             "linecolor": "white",
             "minorgridcolor": "white",
             "startlinecolor": "#2a3f5f"
            },
            "baxis": {
             "endlinecolor": "#2a3f5f",
             "gridcolor": "white",
             "linecolor": "white",
             "minorgridcolor": "white",
             "startlinecolor": "#2a3f5f"
            },
            "type": "carpet"
           }
          ],
          "choropleth": [
           {
            "colorbar": {
             "outlinewidth": 0,
             "ticks": ""
            },
            "type": "choropleth"
           }
          ],
          "contour": [
           {
            "colorbar": {
             "outlinewidth": 0,
             "ticks": ""
            },
            "colorscale": [
             [
              0,
              "#0d0887"
             ],
             [
              0.1111111111111111,
              "#46039f"
             ],
             [
              0.2222222222222222,
              "#7201a8"
             ],
             [
              0.3333333333333333,
              "#9c179e"
             ],
             [
              0.4444444444444444,
              "#bd3786"
             ],
             [
              0.5555555555555556,
              "#d8576b"
             ],
             [
              0.6666666666666666,
              "#ed7953"
             ],
             [
              0.7777777777777778,
              "#fb9f3a"
             ],
             [
              0.8888888888888888,
              "#fdca26"
             ],
             [
              1,
              "#f0f921"
             ]
            ],
            "type": "contour"
           }
          ],
          "contourcarpet": [
           {
            "colorbar": {
             "outlinewidth": 0,
             "ticks": ""
            },
            "type": "contourcarpet"
           }
          ],
          "heatmap": [
           {
            "colorbar": {
             "outlinewidth": 0,
             "ticks": ""
            },
            "colorscale": [
             [
              0,
              "#0d0887"
             ],
             [
              0.1111111111111111,
              "#46039f"
             ],
             [
              0.2222222222222222,
              "#7201a8"
             ],
             [
              0.3333333333333333,
              "#9c179e"
             ],
             [
              0.4444444444444444,
              "#bd3786"
             ],
             [
              0.5555555555555556,
              "#d8576b"
             ],
             [
              0.6666666666666666,
              "#ed7953"
             ],
             [
              0.7777777777777778,
              "#fb9f3a"
             ],
             [
              0.8888888888888888,
              "#fdca26"
             ],
             [
              1,
              "#f0f921"
             ]
            ],
            "type": "heatmap"
           }
          ],
          "heatmapgl": [
           {
            "colorbar": {
             "outlinewidth": 0,
             "ticks": ""
            },
            "colorscale": [
             [
              0,
              "#0d0887"
             ],
             [
              0.1111111111111111,
              "#46039f"
             ],
             [
              0.2222222222222222,
              "#7201a8"
             ],
             [
              0.3333333333333333,
              "#9c179e"
             ],
             [
              0.4444444444444444,
              "#bd3786"
             ],
             [
              0.5555555555555556,
              "#d8576b"
             ],
             [
              0.6666666666666666,
              "#ed7953"
             ],
             [
              0.7777777777777778,
              "#fb9f3a"
             ],
             [
              0.8888888888888888,
              "#fdca26"
             ],
             [
              1,
              "#f0f921"
             ]
            ],
            "type": "heatmapgl"
           }
          ],
          "histogram": [
           {
            "marker": {
             "pattern": {
              "fillmode": "overlay",
              "size": 10,
              "solidity": 0.2
             }
            },
            "type": "histogram"
           }
          ],
          "histogram2d": [
           {
            "colorbar": {
             "outlinewidth": 0,
             "ticks": ""
            },
            "colorscale": [
             [
              0,
              "#0d0887"
             ],
             [
              0.1111111111111111,
              "#46039f"
             ],
             [
              0.2222222222222222,
              "#7201a8"
             ],
             [
              0.3333333333333333,
              "#9c179e"
             ],
             [
              0.4444444444444444,
              "#bd3786"
             ],
             [
              0.5555555555555556,
              "#d8576b"
             ],
             [
              0.6666666666666666,
              "#ed7953"
             ],
             [
              0.7777777777777778,
              "#fb9f3a"
             ],
             [
              0.8888888888888888,
              "#fdca26"
             ],
             [
              1,
              "#f0f921"
             ]
            ],
            "type": "histogram2d"
           }
          ],
          "histogram2dcontour": [
           {
            "colorbar": {
             "outlinewidth": 0,
             "ticks": ""
            },
            "colorscale": [
             [
              0,
              "#0d0887"
             ],
             [
              0.1111111111111111,
              "#46039f"
             ],
             [
              0.2222222222222222,
              "#7201a8"
             ],
             [
              0.3333333333333333,
              "#9c179e"
             ],
             [
              0.4444444444444444,
              "#bd3786"
             ],
             [
              0.5555555555555556,
              "#d8576b"
             ],
             [
              0.6666666666666666,
              "#ed7953"
             ],
             [
              0.7777777777777778,
              "#fb9f3a"
             ],
             [
              0.8888888888888888,
              "#fdca26"
             ],
             [
              1,
              "#f0f921"
             ]
            ],
            "type": "histogram2dcontour"
           }
          ],
          "mesh3d": [
           {
            "colorbar": {
             "outlinewidth": 0,
             "ticks": ""
            },
            "type": "mesh3d"
           }
          ],
          "parcoords": [
           {
            "line": {
             "colorbar": {
              "outlinewidth": 0,
              "ticks": ""
             }
            },
            "type": "parcoords"
           }
          ],
          "pie": [
           {
            "automargin": true,
            "type": "pie"
           }
          ],
          "scatter": [
           {
            "fillpattern": {
             "fillmode": "overlay",
             "size": 10,
             "solidity": 0.2
            },
            "type": "scatter"
           }
          ],
          "scatter3d": [
           {
            "line": {
             "colorbar": {
              "outlinewidth": 0,
              "ticks": ""
             }
            },
            "marker": {
             "colorbar": {
              "outlinewidth": 0,
              "ticks": ""
             }
            },
            "type": "scatter3d"
           }
          ],
          "scattercarpet": [
           {
            "marker": {
             "colorbar": {
              "outlinewidth": 0,
              "ticks": ""
             }
            },
            "type": "scattercarpet"
           }
          ],
          "scattergeo": [
           {
            "marker": {
             "colorbar": {
              "outlinewidth": 0,
              "ticks": ""
             }
            },
            "type": "scattergeo"
           }
          ],
          "scattergl": [
           {
            "marker": {
             "colorbar": {
              "outlinewidth": 0,
              "ticks": ""
             }
            },
            "type": "scattergl"
           }
          ],
          "scattermapbox": [
           {
            "marker": {
             "colorbar": {
              "outlinewidth": 0,
              "ticks": ""
             }
            },
            "type": "scattermapbox"
           }
          ],
          "scatterpolar": [
           {
            "marker": {
             "colorbar": {
              "outlinewidth": 0,
              "ticks": ""
             }
            },
            "type": "scatterpolar"
           }
          ],
          "scatterpolargl": [
           {
            "marker": {
             "colorbar": {
              "outlinewidth": 0,
              "ticks": ""
             }
            },
            "type": "scatterpolargl"
           }
          ],
          "scatterternary": [
           {
            "marker": {
             "colorbar": {
              "outlinewidth": 0,
              "ticks": ""
             }
            },
            "type": "scatterternary"
           }
          ],
          "surface": [
           {
            "colorbar": {
             "outlinewidth": 0,
             "ticks": ""
            },
            "colorscale": [
             [
              0,
              "#0d0887"
             ],
             [
              0.1111111111111111,
              "#46039f"
             ],
             [
              0.2222222222222222,
              "#7201a8"
             ],
             [
              0.3333333333333333,
              "#9c179e"
             ],
             [
              0.4444444444444444,
              "#bd3786"
             ],
             [
              0.5555555555555556,
              "#d8576b"
             ],
             [
              0.6666666666666666,
              "#ed7953"
             ],
             [
              0.7777777777777778,
              "#fb9f3a"
             ],
             [
              0.8888888888888888,
              "#fdca26"
             ],
             [
              1,
              "#f0f921"
             ]
            ],
            "type": "surface"
           }
          ],
          "table": [
           {
            "cells": {
             "fill": {
              "color": "#EBF0F8"
             },
             "line": {
              "color": "white"
             }
            },
            "header": {
             "fill": {
              "color": "#C8D4E3"
             },
             "line": {
              "color": "white"
             }
            },
            "type": "table"
           }
          ]
         },
         "layout": {
          "annotationdefaults": {
           "arrowcolor": "#2a3f5f",
           "arrowhead": 0,
           "arrowwidth": 1
          },
          "autotypenumbers": "strict",
          "coloraxis": {
           "colorbar": {
            "outlinewidth": 0,
            "ticks": ""
           }
          },
          "colorscale": {
           "diverging": [
            [
             0,
             "#8e0152"
            ],
            [
             0.1,
             "#c51b7d"
            ],
            [
             0.2,
             "#de77ae"
            ],
            [
             0.3,
             "#f1b6da"
            ],
            [
             0.4,
             "#fde0ef"
            ],
            [
             0.5,
             "#f7f7f7"
            ],
            [
             0.6,
             "#e6f5d0"
            ],
            [
             0.7,
             "#b8e186"
            ],
            [
             0.8,
             "#7fbc41"
            ],
            [
             0.9,
             "#4d9221"
            ],
            [
             1,
             "#276419"
            ]
           ],
           "sequential": [
            [
             0,
             "#0d0887"
            ],
            [
             0.1111111111111111,
             "#46039f"
            ],
            [
             0.2222222222222222,
             "#7201a8"
            ],
            [
             0.3333333333333333,
             "#9c179e"
            ],
            [
             0.4444444444444444,
             "#bd3786"
            ],
            [
             0.5555555555555556,
             "#d8576b"
            ],
            [
             0.6666666666666666,
             "#ed7953"
            ],
            [
             0.7777777777777778,
             "#fb9f3a"
            ],
            [
             0.8888888888888888,
             "#fdca26"
            ],
            [
             1,
             "#f0f921"
            ]
           ],
           "sequentialminus": [
            [
             0,
             "#0d0887"
            ],
            [
             0.1111111111111111,
             "#46039f"
            ],
            [
             0.2222222222222222,
             "#7201a8"
            ],
            [
             0.3333333333333333,
             "#9c179e"
            ],
            [
             0.4444444444444444,
             "#bd3786"
            ],
            [
             0.5555555555555556,
             "#d8576b"
            ],
            [
             0.6666666666666666,
             "#ed7953"
            ],
            [
             0.7777777777777778,
             "#fb9f3a"
            ],
            [
             0.8888888888888888,
             "#fdca26"
            ],
            [
             1,
             "#f0f921"
            ]
           ]
          },
          "colorway": [
           "#636efa",
           "#EF553B",
           "#00cc96",
           "#ab63fa",
           "#FFA15A",
           "#19d3f3",
           "#FF6692",
           "#B6E880",
           "#FF97FF",
           "#FECB52"
          ],
          "font": {
           "color": "#2a3f5f"
          },
          "geo": {
           "bgcolor": "white",
           "lakecolor": "white",
           "landcolor": "#E5ECF6",
           "showlakes": true,
           "showland": true,
           "subunitcolor": "white"
          },
          "hoverlabel": {
           "align": "left"
          },
          "hovermode": "closest",
          "mapbox": {
           "style": "light"
          },
          "paper_bgcolor": "white",
          "plot_bgcolor": "#E5ECF6",
          "polar": {
           "angularaxis": {
            "gridcolor": "white",
            "linecolor": "white",
            "ticks": ""
           },
           "bgcolor": "#E5ECF6",
           "radialaxis": {
            "gridcolor": "white",
            "linecolor": "white",
            "ticks": ""
           }
          },
          "scene": {
           "xaxis": {
            "backgroundcolor": "#E5ECF6",
            "gridcolor": "white",
            "gridwidth": 2,
            "linecolor": "white",
            "showbackground": true,
            "ticks": "",
            "zerolinecolor": "white"
           },
           "yaxis": {
            "backgroundcolor": "#E5ECF6",
            "gridcolor": "white",
            "gridwidth": 2,
            "linecolor": "white",
            "showbackground": true,
            "ticks": "",
            "zerolinecolor": "white"
           },
           "zaxis": {
            "backgroundcolor": "#E5ECF6",
            "gridcolor": "white",
            "gridwidth": 2,
            "linecolor": "white",
            "showbackground": true,
            "ticks": "",
            "zerolinecolor": "white"
           }
          },
          "shapedefaults": {
           "line": {
            "color": "#2a3f5f"
           }
          },
          "ternary": {
           "aaxis": {
            "gridcolor": "white",
            "linecolor": "white",
            "ticks": ""
           },
           "baxis": {
            "gridcolor": "white",
            "linecolor": "white",
            "ticks": ""
           },
           "bgcolor": "#E5ECF6",
           "caxis": {
            "gridcolor": "white",
            "linecolor": "white",
            "ticks": ""
           }
          },
          "title": {
           "x": 0.05
          },
          "xaxis": {
           "automargin": true,
           "gridcolor": "white",
           "linecolor": "white",
           "ticks": "",
           "title": {
            "standoff": 15
           },
           "zerolinecolor": "white",
           "zerolinewidth": 2
          },
          "yaxis": {
           "automargin": true,
           "gridcolor": "white",
           "linecolor": "white",
           "ticks": "",
           "title": {
            "standoff": 15
           },
           "zerolinecolor": "white",
           "zerolinewidth": 2
          }
         }
        },
        "xaxis": {
         "anchor": "y",
         "autorange": true,
         "domain": [
          0,
          1
         ],
         "range": [
          -2.481296163926614,
          43.481296163926615
         ],
         "title": {
          "text": "Crm_Cd_Desc"
         },
         "type": "category"
        },
        "yaxis": {
         "anchor": "x",
         "autorange": true,
         "domain": [
          0,
          1
         ],
         "range": [
          106.5129740518962,
          1059.4870259481038
         ],
         "title": {
          "text": "Crm_Cd"
         },
         "type": "linear"
        }
       }
      },
      "image/png": "[encoded data removed]",
      "text/html": [
       "<div>                            <div id=\"13c36668-c6d9-4c98-963e-5d784166e83e\" class=\"plotly-graph-div\" style=\"height:525px; width:100%;\"></div>            <script type=\"text/javascript\">                require([\"plotly\"], function(Plotly) {                    window.PLOTLYENV=window.PLOTLYENV || {};                                    if (document.getElementById(\"13c36668-c6d9-4c98-963e-5d784166e83e\")) {                    Plotly.newPlot(                        \"13c36668-c6d9-4c98-963e-5d784166e83e\",                        [{\"hovertemplate\":\"Crm_Cd_Desc=%{x}<br>Crm_Cd=%{y}<extra></extra>\",\"legendgroup\":\"\",\"marker\":{\"color\":\"#636efa\",\"symbol\":\"circle\"},\"mode\":\"markers\",\"name\":\"\",\"orientation\":\"v\",\"showlegend\":false,\"x\":[\"BATTERY - SIMPLE ASSAULT\",\"BATTERY - SIMPLE ASSAULT\",\"VANDALISM - MISDEAMEANOR ($399 OR UNDER)\",\"VANDALISM - FELONY ($400 & OVER, ALL CHURCH VANDALISMS)\",\"SHOPLIFTING - PETTY THEFT ($950 & UNDER)\",\"OTHER MISCELLANEOUS CRIME\",\"THEFT-GRAND ($950.01 & OVER)EXCPT,GUNS,FOWL,LIVESTK,PROD\",\"BURGLARY FROM VEHICLE\",\"CRIMINAL THREATS - NO WEAPON DISPLAYED\",\"THEFT-GRAND ($950.01 & OVER)EXCPT,GUNS,FOWL,LIVESTK,PROD\",\"ARSON\",\"SHOPLIFTING - PETTY THEFT ($950 & UNDER)\",\"THEFT OF IDENTITY\",\"SHOPLIFTING - PETTY THEFT ($950 & UNDER)\",\"ASSAULT WITH DEADLY WEAPON, AGGRAVATED ASSAULT\",\"SHOPLIFTING - PETTY THEFT ($950 & UNDER)\",\"VANDALISM - FELONY ($400 & OVER, ALL CHURCH VANDALISMS)\",\"BRANDISH WEAPON\",\"SHOPLIFTING - PETTY THEFT ($950 & UNDER)\",\"THEFT, PERSON\",\"VANDALISM - FELONY ($400 & OVER, ALL CHURCH VANDALISMS)\",\"CRIMINAL THREATS - NO WEAPON DISPLAYED\",\"BURGLARY\",\"ASSAULT WITH DEADLY WEAPON, AGGRAVATED ASSAULT\",\"VANDALISM - MISDEAMEANOR ($399 OR UNDER)\",\"BIKE - STOLEN\",\"VANDALISM - MISDEAMEANOR ($399 OR UNDER)\",\"BATTERY POLICE (SIMPLE)\",\"BATTERY POLICE (SIMPLE)\",\"THEFT PLAIN - PETTY ($950 & UNDER)\",\"BATTERY - SIMPLE ASSAULT\",\"ASSAULT WITH DEADLY WEAPON, AGGRAVATED ASSAULT\",\"BATTERY - SIMPLE ASSAULT\",\"BATTERY - SIMPLE ASSAULT\",\"THEFT-GRAND ($950.01 & OVER)EXCPT,GUNS,FOWL,LIVESTK,PROD\",\"VANDALISM - MISDEAMEANOR ($399 OR UNDER)\",\"VANDALISM - MISDEAMEANOR ($399 OR UNDER)\",\"BURGLARY\",\"VEHICLE - STOLEN\",\"THEFT PLAIN - PETTY ($950 & UNDER)\",\"THEFT-GRAND ($950.01 & OVER)EXCPT,GUNS,FOWL,LIVESTK,PROD\",\"BURGLARY FROM VEHICLE\",\"ROBBERY\",\"BATTERY - SIMPLE ASSAULT\",\"SHOPLIFTING - PETTY THEFT ($950 & UNDER)\",\"BURGLARY\",\"VIOLATION OF COURT ORDER\",\"ROBBERY\",\"BATTERY - SIMPLE ASSAULT\",\"BURGLARY\",\"SHOPLIFTING - PETTY THEFT ($950 & UNDER)\",\"TRESPASSING\",\"ASSAULT WITH DEADLY WEAPON, AGGRAVATED ASSAULT\",\"BURGLARY FROM VEHICLE\",\"THEFT PLAIN - PETTY ($950 & UNDER)\",\"ASSAULT WITH DEADLY WEAPON, AGGRAVATED ASSAULT\",\"ASSAULT WITH DEADLY WEAPON, AGGRAVATED ASSAULT\",\"TRESPASSING\",\"BATTERY - SIMPLE ASSAULT\",\"BATTERY - SIMPLE ASSAULT\",\"VEHICLE - STOLEN\",\"SHOPLIFTING - PETTY THEFT ($950 & UNDER)\",\"THEFT OF IDENTITY\",\"VANDALISM - MISDEAMEANOR ($399 OR UNDER)\",\"BURGLARY FROM VEHICLE\",\"THEFT PLAIN - PETTY ($950 & UNDER)\",\"THEFT PLAIN - PETTY ($950 & UNDER)\",\"VANDALISM - MISDEAMEANOR ($399 OR UNDER)\",\"BATTERY - SIMPLE ASSAULT\",\"BRANDISH WEAPON\",\"VANDALISM - FELONY ($400 & OVER, ALL CHURCH VANDALISMS)\",\"VANDALISM - MISDEAMEANOR ($399 OR UNDER)\",\"SHOPLIFTING - PETTY THEFT ($950 & UNDER)\",\"SHOPLIFTING - PETTY THEFT ($950 & UNDER)\",\"ROBBERY\",\"THEFT FROM MOTOR VEHICLE - PETTY ($950 & UNDER)\",\"ASSAULT WITH DEADLY WEAPON, AGGRAVATED ASSAULT\",\"THEFT-GRAND ($950.01 & OVER)EXCPT,GUNS,FOWL,LIVESTK,PROD\",\"THEFT PLAIN - PETTY ($950 & UNDER)\",\"BURGLARY FROM VEHICLE\",\"BURGLARY FROM VEHICLE\",\"BURGLARY FROM VEHICLE\",\"BURGLARY FROM VEHICLE\",\"ROBBERY\",\"BATTERY - SIMPLE ASSAULT\",\"VEHICLE - STOLEN\",\"BATTERY - SIMPLE ASSAULT\",\"BATTERY - SIMPLE ASSAULT\",\"BURGLARY FROM VEHICLE\",\"DISTURBING THE PEACE\",\"SHOPLIFTING - PETTY THEFT ($950 & UNDER)\",\"THEFT PLAIN - PETTY ($950 & UNDER)\",\"BURGLARY FROM VEHICLE\",\"SHOPLIFTING - PETTY THEFT ($950 & UNDER)\",\"THEFT PLAIN - PETTY ($950 & UNDER)\",\"SHOPLIFTING - PETTY THEFT ($950 & UNDER)\",\"TRESPASSING\",\"BATTERY - SIMPLE ASSAULT\",\"BURGLARY FROM VEHICLE\",\"BATTERY - SIMPLE ASSAULT\",\"THEFT PLAIN - PETTY ($950 & UNDER)\",\"ROBBERY\",\"THEFT PLAIN - PETTY ($950 & UNDER)\",\"THEFT FROM MOTOR VEHICLE - PETTY ($950 & UNDER)\",\"VANDALISM - FELONY ($400 & OVER, ALL CHURCH VANDALISMS)\",\"THEFT PLAIN - PETTY ($950 & UNDER)\",\"VEHICLE - STOLEN\",\"BATTERY - SIMPLE ASSAULT\",\"THEFT-GRAND ($950.01 & OVER)EXCPT,GUNS,FOWL,LIVESTK,PROD\",\"CRIMINAL THREATS - NO WEAPON DISPLAYED\",\"BATTERY POLICE (SIMPLE)\",\"BURGLARY FROM VEHICLE\",\"BURGLARY FROM VEHICLE\",\"THEFT FROM MOTOR VEHICLE - PETTY ($950 & UNDER)\",\"VANDALISM - FELONY ($400 & OVER, ALL CHURCH VANDALISMS)\",\"ROBBERY\",\"THEFT, PERSON\",\"THEFT FROM MOTOR VEHICLE - ATTEMPT\",\"TRESPASSING\",\"BATTERY - SIMPLE ASSAULT\",\"TRESPASSING\",\"OTHER MISCELLANEOUS CRIME\",\"THROWING OBJECT AT MOVING VEHICLE\",\"THEFT PLAIN - PETTY ($950 & UNDER)\",\"VANDALISM - MISDEAMEANOR ($399 OR UNDER)\",\"BURGLARY\",\"BURGLARY FROM VEHICLE\",\"THEFT FROM MOTOR VEHICLE - PETTY ($950 & UNDER)\",\"ASSAULT WITH DEADLY WEAPON, AGGRAVATED ASSAULT\",\"EXTORTION\",\"ASSAULT WITH DEADLY WEAPON, AGGRAVATED ASSAULT\",\"BURGLARY FROM VEHICLE\",\"BATTERY - SIMPLE ASSAULT\",\"BATTERY - SIMPLE ASSAULT\",\"VEHICLE - STOLEN\",\"SHOPLIFTING - PETTY THEFT ($950 & UNDER)\",\"BURGLARY FROM VEHICLE\",\"BURGLARY FROM VEHICLE\",\"THEFT OF IDENTITY\",\"BIKE - STOLEN\",\"BATTERY - SIMPLE ASSAULT\",\"BURGLARY FROM VEHICLE\",\"BATTERY - SIMPLE ASSAULT\",\"BUNCO, GRAND THEFT\",\"VEHICLE - STOLEN\",\"VANDALISM - MISDEAMEANOR ($399 OR UNDER)\",\"BURGLARY FROM VEHICLE\",\"CRIMINAL THREATS - NO WEAPON DISPLAYED\",\"THEFT PLAIN - PETTY ($950 & UNDER)\",\"VANDALISM - MISDEAMEANOR ($399 OR UNDER)\",\"BURGLARY FROM VEHICLE\",\"TRESPASSING\",\"BIKE - STOLEN\",\"BURGLARY FROM VEHICLE\",\"THEFT PLAIN - PETTY ($950 & UNDER)\",\"BURGLARY FROM VEHICLE\",\"BURGLARY FROM VEHICLE\",\"BURGLARY FROM VEHICLE\",\"BURGLARY FROM VEHICLE\",\"BATTERY - SIMPLE ASSAULT\",\"VANDALISM - FELONY ($400 & OVER, ALL CHURCH VANDALISMS)\",\"VANDALISM - FELONY ($400 & OVER, ALL CHURCH VANDALISMS)\",\"BATTERY - SIMPLE ASSAULT\",\"BURGLARY FROM VEHICLE\",\"THEFT-GRAND ($950.01 & OVER)EXCPT,GUNS,FOWL,LIVESTK,PROD\",\"BURGLARY FROM VEHICLE\",\"BIKE - STOLEN\",\"THEFT PLAIN - PETTY ($950 & UNDER)\",\"TRESPASSING\",\"VANDALISM - FELONY ($400 & OVER, ALL CHURCH VANDALISMS)\",\"BURGLARY FROM VEHICLE\",\"CRIMINAL THREATS - NO WEAPON DISPLAYED\",\"SHOPLIFTING - PETTY THEFT ($950 & UNDER)\",\"BATTERY - SIMPLE ASSAULT\",\"ATTEMPTED ROBBERY\",\"BURGLARY FROM VEHICLE\",\"OTHER ASSAULT\",\"THEFT, PERSON\",\"BOMB SCARE\",\"SHOPLIFTING - PETTY THEFT ($950 & UNDER)\",\"VEHICLE - STOLEN\",\"BURGLARY FROM VEHICLE\",\"BATTERY - SIMPLE ASSAULT\",\"BATTERY - SIMPLE ASSAULT\",\"THEFT PLAIN - PETTY ($950 & UNDER)\",\"BATTERY - SIMPLE ASSAULT\",\"THEFT-GRAND ($950.01 & OVER)EXCPT,GUNS,FOWL,LIVESTK,PROD\",\"THEFT-GRAND ($950.01 & OVER)EXCPT,GUNS,FOWL,LIVESTK,PROD\",\"THEFT PLAIN - PETTY ($950 & UNDER)\",\"THEFT PLAIN - PETTY ($950 & UNDER)\",\"VANDALISM - FELONY ($400 & OVER, ALL CHURCH VANDALISMS)\",\"BRANDISH WEAPON\",\"THEFT OF IDENTITY\",\"THEFT PLAIN - PETTY ($950 & UNDER)\",\"BURGLARY FROM VEHICLE\",\"THEFT PLAIN - PETTY ($950 & UNDER)\",\"VEHICLE - STOLEN\",\"TRESPASSING\",\"BURGLARY\",\"BIKE - STOLEN\",\"THEFT-GRAND ($950.01 & OVER)EXCPT,GUNS,FOWL,LIVESTK,PROD\",\"BUNCO, GRAND THEFT\",\"THEFT PLAIN - PETTY ($950 & UNDER)\",\"SHOPLIFTING - PETTY THEFT ($950 & UNDER)\",\"BATTERY - SIMPLE ASSAULT\",\"VANDALISM - MISDEAMEANOR ($399 OR UNDER)\",\"BIKE - STOLEN\",\"ATTEMPTED ROBBERY\",\"BURGLARY FROM VEHICLE\",\"BURGLARY FROM VEHICLE\",\"BURGLARY FROM VEHICLE\",\"THEFT-GRAND ($950.01 & OVER)EXCPT,GUNS,FOWL,LIVESTK,PROD\",\"DOCUMENT FORGERY / STOLEN FELONY\",\"ROBBERY\",\"VIOLATION OF RESTRAINING ORDER\",\"BATTERY - SIMPLE ASSAULT\",\"OTHER MISCELLANEOUS CRIME\",\"VANDALISM - FELONY ($400 & OVER, ALL CHURCH VANDALISMS)\",\"SHOPLIFTING - PETTY THEFT ($950 & UNDER)\",\"BURGLARY FROM VEHICLE\",\"THEFT-GRAND ($950.01 & OVER)EXCPT,GUNS,FOWL,LIVESTK,PROD\",\"THEFT PLAIN - PETTY ($950 & UNDER)\",\"THEFT PLAIN - PETTY ($950 & UNDER)\",\"ROBBERY\",\"THEFT, PERSON\",\"BATTERY - SIMPLE ASSAULT\",\"BURGLARY FROM VEHICLE\",\"BURGLARY FROM VEHICLE\",\"VANDALISM - MISDEAMEANOR ($399 OR UNDER)\",\"BURGLARY FROM VEHICLE\",\"BURGLARY FROM VEHICLE\",\"VIOLATION OF COURT ORDER\",\"VEHICLE - STOLEN\",\"BURGLARY FROM VEHICLE\",\"BATTERY - SIMPLE ASSAULT\",\"THEFT-GRAND ($950.01 & OVER)EXCPT,GUNS,FOWL,LIVESTK,PROD\",\"VEHICLE - STOLEN\",\"BURGLARY\",\"BATTERY - SIMPLE ASSAULT\",\"VEHICLE - STOLEN\",\"ATTEMPTED ROBBERY\",\"VEHICLE - STOLEN\",\"ASSAULT WITH DEADLY WEAPON, AGGRAVATED ASSAULT\",\"ASSAULT WITH DEADLY WEAPON, AGGRAVATED ASSAULT\",\"BATTERY - SIMPLE ASSAULT\",\"ASSAULT WITH DEADLY WEAPON, AGGRAVATED ASSAULT\",\"BURGLARY FROM VEHICLE\",\"VANDALISM - FELONY ($400 & OVER, ALL CHURCH VANDALISMS)\",\"THEFT-GRAND ($950.01 & OVER)EXCPT,GUNS,FOWL,LIVESTK,PROD\",\"BURGLARY, ATTEMPTED\",\"VANDALISM - FELONY ($400 & OVER, ALL CHURCH VANDALISMS)\",\"THEFT PLAIN - PETTY ($950 & UNDER)\",\"VANDALISM - FELONY ($400 & OVER, ALL CHURCH VANDALISMS)\",\"THEFT PLAIN - PETTY ($950 & UNDER)\",\"BATTERY - SIMPLE ASSAULT\",\"BATTERY - SIMPLE ASSAULT\",\"THEFT OF IDENTITY\",\"BURGLARY FROM VEHICLE\",\"BURGLARY FROM VEHICLE\",\"VEHICLE - STOLEN\",\"BURGLARY FROM VEHICLE\",\"VANDALISM - FELONY ($400 & OVER, ALL CHURCH VANDALISMS)\",\"BUNCO, GRAND THEFT\",\"THEFT PLAIN - PETTY ($950 & UNDER)\",\"THEFT, PERSON\",\"BATTERY - SIMPLE ASSAULT\",\"BATTERY - SIMPLE ASSAULT\",\"THEFT PLAIN - PETTY ($950 & UNDER)\",\"BRANDISH WEAPON\",\"TRESPASSING\",\"SHOPLIFTING - PETTY THEFT ($950 & UNDER)\",\"BATTERY - SIMPLE ASSAULT\",\"BATTERY - SIMPLE ASSAULT\",\"BATTERY - SIMPLE ASSAULT\",\"BATTERY - SIMPLE ASSAULT\",\"BATTERY - SIMPLE ASSAULT\",\"BATTERY - SIMPLE ASSAULT\",\"BURGLARY FROM VEHICLE\",\"BURGLARY FROM VEHICLE\",\"THEFT-GRAND ($950.01 & OVER)EXCPT,GUNS,FOWL,LIVESTK,PROD\",\"BIKE - STOLEN\",\"THEFT, PERSON\",\"THEFT-GRAND ($950.01 & OVER)EXCPT,GUNS,FOWL,LIVESTK,PROD\",\"VANDALISM - FELONY ($400 & OVER, ALL CHURCH VANDALISMS)\",\"ASSAULT WITH DEADLY WEAPON, AGGRAVATED ASSAULT\",\"VIOLATION OF RESTRAINING ORDER\",\"VANDALISM - FELONY ($400 & OVER, ALL CHURCH VANDALISMS)\",\"TRESPASSING\",\"BURGLARY FROM VEHICLE\",\"BURGLARY FROM VEHICLE\",\"ASSAULT WITH DEADLY WEAPON, AGGRAVATED ASSAULT\",\"VANDALISM - FELONY ($400 & OVER, ALL CHURCH VANDALISMS)\",\"CRIMINAL THREATS - NO WEAPON DISPLAYED\",\"SHOPLIFTING - PETTY THEFT ($950 & UNDER)\",\"BURGLARY\",\"THEFT, PERSON\",\"THEFT PLAIN - PETTY ($950 & UNDER)\",\"THEFT FROM MOTOR VEHICLE - PETTY ($950 & UNDER)\",\"THEFT-GRAND ($950.01 & OVER)EXCPT,GUNS,FOWL,LIVESTK,PROD\",\"ROBBERY\",\"BURGLARY FROM VEHICLE\",\"BURGLARY FROM VEHICLE\",\"BATTERY - SIMPLE ASSAULT\",\"BATTERY - SIMPLE ASSAULT\",\"BURGLARY FROM VEHICLE\",\"BURGLARY FROM VEHICLE\",\"VANDALISM - FELONY ($400 & OVER, ALL CHURCH VANDALISMS)\",\"TRESPASSING\",\"ROBBERY\",\"THEFT PLAIN - PETTY ($950 & UNDER)\",\"FAILURE TO YIELD\",\"TRESPASSING\",\"PURSE SNATCHING\",\"THEFT-GRAND ($950.01 & OVER)EXCPT,GUNS,FOWL,LIVESTK,PROD\",\"BIKE - STOLEN\",\"THEFT PLAIN - PETTY ($950 & UNDER)\",\"OTHER MISCELLANEOUS CRIME\",\"LETTERS, LEWD  -  TELEPHONE CALLS, LEWD\",\"BURGLARY FROM VEHICLE\",\"BATTERY - SIMPLE ASSAULT\",\"BATTERY - SIMPLE ASSAULT\",\"VEHICLE - STOLEN\",\"BURGLARY FROM VEHICLE\",\"THEFT-GRAND ($950.01 & OVER)EXCPT,GUNS,FOWL,LIVESTK,PROD\",\"BURGLARY FROM VEHICLE\",\"VANDALISM - FELONY ($400 & OVER, ALL CHURCH VANDALISMS)\",\"BURGLARY FROM VEHICLE\",\"BURGLARY FROM VEHICLE\",\"TRESPASSING\",\"ORAL COPULATION\",\"THEFT OF IDENTITY\",\"ROBBERY\",\"VEHICLE - STOLEN\",\"THEFT OF IDENTITY\",\"THEFT OF IDENTITY\",\"DISTURBING THE PEACE\",\"THEFT-GRAND ($950.01 & OVER)EXCPT,GUNS,FOWL,LIVESTK,PROD\",\"VANDALISM - FELONY ($400 & OVER, ALL CHURCH VANDALISMS)\",\"VEHICLE - STOLEN\",\"THEFT FROM MOTOR VEHICLE - PETTY ($950 & UNDER)\",\"ARSON\",\"CRM AGNST CHLD (13 OR UNDER) (14-15 & SUSP 10 YRS OLDER)\",\"VEHICLE - STOLEN\",\"VEHICLE - STOLEN\",\"BURGLARY FROM VEHICLE\",\"VEHICLE - STOLEN\",\"BATTERY - SIMPLE ASSAULT\",\"BURGLARY FROM VEHICLE\",\"BURGLARY\",\"THEFT-GRAND ($950.01 & OVER)EXCPT,GUNS,FOWL,LIVESTK,PROD\",\"CRIMINAL THREATS - NO WEAPON DISPLAYED\",\"BATTERY - SIMPLE ASSAULT\",\"ASSAULT WITH DEADLY WEAPON, AGGRAVATED ASSAULT\",\"VEHICLE - STOLEN\",\"VEHICLE - STOLEN\",\"ASSAULT WITH DEADLY WEAPON, AGGRAVATED ASSAULT\",\"BURGLARY, ATTEMPTED\",\"VANDALISM - MISDEAMEANOR ($399 OR UNDER)\",\"VIOLATION OF RESTRAINING ORDER\",\"ATTEMPTED ROBBERY\",\"THEFT PLAIN - PETTY ($950 & UNDER)\",\"TRESPASSING\",\"VANDALISM - MISDEAMEANOR ($399 OR UNDER)\",\"BATTERY - SIMPLE ASSAULT\",\"VANDALISM - FELONY ($400 & OVER, ALL CHURCH VANDALISMS)\",\"THEFT FROM MOTOR VEHICLE - PETTY ($950 & UNDER)\",\"SHOPLIFTING - PETTY THEFT ($950 & UNDER)\",\"ASSAULT WITH DEADLY WEAPON, AGGRAVATED ASSAULT\",\"OTHER ASSAULT\",\"TRESPASSING\",\"ASSAULT WITH DEADLY WEAPON, AGGRAVATED ASSAULT\",\"THEFT PLAIN - PETTY ($950 & UNDER)\",\"BURGLARY FROM VEHICLE\",\"ASSAULT WITH DEADLY WEAPON, AGGRAVATED ASSAULT\",\"BATTERY - SIMPLE ASSAULT\",\"BATTERY - SIMPLE ASSAULT\",\"BATTERY - SIMPLE ASSAULT\",\"BATTERY - SIMPLE ASSAULT\",\"BURGLARY FROM VEHICLE\",\"THEFT-GRAND ($950.01 & OVER)EXCPT,GUNS,FOWL,LIVESTK,PROD\",\"THEFT-GRAND ($950.01 & OVER)EXCPT,GUNS,FOWL,LIVESTK,PROD\",\"THEFT OF IDENTITY\",\"ASSAULT WITH DEADLY WEAPON, AGGRAVATED ASSAULT\",\"BURGLARY FROM VEHICLE\",\"BURGLARY FROM VEHICLE\",\"THEFT, PERSON\",\"BATTERY - SIMPLE ASSAULT\",\"THEFT PLAIN - PETTY ($950 & UNDER)\",\"THEFT PLAIN - PETTY ($950 & UNDER)\",\"VEHICLE - STOLEN\",\"SHOPLIFTING - PETTY THEFT ($950 & UNDER)\",\"BATTERY POLICE (SIMPLE)\",\"THEFT PLAIN - PETTY ($950 & UNDER)\",\"VANDALISM - MISDEAMEANOR ($399 OR UNDER)\",\"BURGLARY\",\"BURGLARY FROM VEHICLE\",\"TRESPASSING\",\"THEFT FROM MOTOR VEHICLE - PETTY ($950 & UNDER)\",\"ASSAULT WITH DEADLY WEAPON, AGGRAVATED ASSAULT\",\"KIDNAPPING - GRAND ATTEMPT\",\"ASSAULT WITH DEADLY WEAPON, AGGRAVATED ASSAULT\",\"BURGLARY FROM VEHICLE\",\"VANDALISM - MISDEAMEANOR ($399 OR UNDER)\",\"THEFT PLAIN - PETTY ($950 & UNDER)\",\"BURGLARY\",\"THEFT, PERSON\",\"BATTERY - SIMPLE ASSAULT\",\"VANDALISM - MISDEAMEANOR ($399 OR UNDER)\",\"BATTERY - SIMPLE ASSAULT\",\"VANDALISM - MISDEAMEANOR ($399 OR UNDER)\",\"ROBBERY\",\"BATTERY - SIMPLE ASSAULT\",\"BURGLARY FROM VEHICLE\",\"BIKE - STOLEN\",\"THEFT PLAIN - PETTY ($950 & UNDER)\",\"VANDALISM - MISDEAMEANOR ($399 OR UNDER)\",\"BURGLARY FROM VEHICLE\",\"BATTERY - SIMPLE ASSAULT\",\"BATTERY - SIMPLE ASSAULT\",\"BURGLARY FROM VEHICLE\",\"BIKE - STOLEN\",\"SHOPLIFTING - PETTY THEFT ($950 & UNDER)\",\"ARSON\",\"ASSAULT WITH DEADLY WEAPON, AGGRAVATED ASSAULT\",\"INDECENT EXPOSURE\",\"INDECENT EXPOSURE\",\"BATTERY - SIMPLE ASSAULT\",\"VANDALISM - MISDEAMEANOR ($399 OR UNDER)\",\"VEHICLE - STOLEN\",\"BATTERY - SIMPLE ASSAULT\",\"BATTERY - SIMPLE ASSAULT\",\"BUNCO, ATTEMPT\",\"BURGLARY FROM VEHICLE\",\"BURGLARY FROM VEHICLE\",\"THEFT PLAIN - PETTY ($950 & UNDER)\",\"THEFT PLAIN - PETTY ($950 & UNDER)\",\"BURGLARY FROM VEHICLE\",\"BUNCO, GRAND THEFT\",\"BUNCO, GRAND THEFT\",\"THEFT-GRAND ($950.01 & OVER)EXCPT,GUNS,FOWL,LIVESTK,PROD\",\"LETTERS, LEWD  -  TELEPHONE CALLS, LEWD\",\"BURGLARY FROM VEHICLE\",\"BATTERY POLICE (SIMPLE)\",\"VEHICLE - STOLEN\",\"THEFT OF IDENTITY\",\"BURGLARY FROM VEHICLE\",\"BATTERY - SIMPLE ASSAULT\",\"THEFT FROM MOTOR VEHICLE - PETTY ($950 & UNDER)\",\"PURSE SNATCHING\",\"TRESPASSING\",\"SHOPLIFTING - PETTY THEFT ($950 & UNDER)\",\"BURGLARY\",\"THEFT PLAIN - PETTY ($950 & UNDER)\",\"VANDALISM - MISDEAMEANOR ($399 OR UNDER)\",\"THEFT PLAIN - PETTY ($950 & UNDER)\",\"BURGLARY FROM VEHICLE\",\"BURGLARY\",\"VEHICLE - STOLEN\",\"BURGLARY\",\"BURGLARY FROM VEHICLE\",\"BURGLARY FROM VEHICLE\",\"BRANDISH WEAPON\",\"THEFT-GRAND ($950.01 & OVER)EXCPT,GUNS,FOWL,LIVESTK,PROD\",\"VEHICLE - STOLEN\",\"BURGLARY FROM VEHICLE\",\"BATTERY - SIMPLE ASSAULT\",\"SHOPLIFTING-GRAND THEFT ($950.01 & OVER)\",\"BATTERY - SIMPLE ASSAULT\",\"BURGLARY\",\"BATTERY - SIMPLE ASSAULT\",\"ASSAULT WITH DEADLY WEAPON, AGGRAVATED ASSAULT\",\"THEFT-GRAND ($950.01 & OVER)EXCPT,GUNS,FOWL,LIVESTK,PROD\",\"BURGLARY FROM VEHICLE\",\"BURGLARY FROM VEHICLE\",\"BURGLARY\",\"BURGLARY FROM VEHICLE\",\"BATTERY - SIMPLE ASSAULT\",\"SHOPLIFTING - PETTY THEFT ($950 & UNDER)\",\"BIKE - STOLEN\",\"BATTERY - SIMPLE ASSAULT\",\"TRESPASSING\",\"BURGLARY FROM VEHICLE\",\"BURGLARY FROM VEHICLE\",\"THEFT PLAIN - PETTY ($950 & UNDER)\",\"THEFT PLAIN - PETTY ($950 & UNDER)\",\"VANDALISM - FELONY ($400 & OVER, ALL CHURCH VANDALISMS)\",\"SHOPLIFTING - PETTY THEFT ($950 & UNDER)\",\"THEFT PLAIN - PETTY ($950 & UNDER)\",\"SHOPLIFTING - PETTY THEFT ($950 & UNDER)\",\"SHOPLIFTING - PETTY THEFT ($950 & UNDER)\",\"BATTERY - SIMPLE ASSAULT\",\"TRESPASSING\",\"BATTERY - SIMPLE ASSAULT\",\"VEHICLE - STOLEN\",\"BATTERY - SIMPLE ASSAULT\",\"BATTERY - SIMPLE ASSAULT\",\"BATTERY - SIMPLE ASSAULT\",\"VEHICLE - STOLEN\",\"VANDALISM - MISDEAMEANOR ($399 OR UNDER)\"],\"xaxis\":\"x\",\"y\":[624,624,745,740,442,946,341,330,930,341,648,442,354,442,230,442,740,761,442,350,740,930,310,230,745,480,745,623,623,440,624,230,624,624,341,745,745,310,510,440,341,330,210,624,442,310,900,210,624,310,442,888,230,330,440,230,230,888,624,624,510,442,354,745,330,440,440,745,624,761,740,745,442,442,210,420,230,341,440,330,330,330,330,210,624,510,624,624,330,886,442,440,330,442,440,442,888,624,330,624,440,210,440,420,740,440,510,624,341,930,623,330,330,420,740,210,350,421,888,624,888,946,647,440,745,310,330,420,230,940,230,330,624,624,510,442,330,330,354,480,624,330,624,662,510,745,330,930,440,745,330,888,480,330,440,330,330,330,330,624,740,740,624,330,341,330,480,440,888,740,330,930,442,624,220,330,625,350,755,442,510,330,624,624,440,624,341,341,440,440,740,761,354,440,330,440,510,888,310,480,341,662,440,442,624,745,480,220,330,330,330,341,649,210,901,624,946,740,442,330,341,440,440,210,350,624,330,330,745,330,330,900,510,330,624,341,510,310,624,510,220,510,230,230,624,230,330,740,341,320,740,440,740,440,624,624,354,330,330,510,330,740,662,440,350,624,624,440,761,888,442,624,624,624,624,624,624,330,330,341,480,350,341,740,230,901,740,888,330,330,230,740,930,442,310,350,440,420,341,210,330,330,624,624,330,330,740,888,210,440,890,888,351,341,480,440,946,956,330,624,624,510,330,341,330,740,330,330,888,820,354,210,510,354,354,886,341,740,510,420,648,812,510,510,330,510,624,330,310,341,930,624,230,510,510,230,320,745,901,220,440,888,745,624,740,420,442,230,625,888,230,440,330,230,624,624,624,624,330,341,341,354,230,330,330,350,624,440,440,510,442,623,440,745,310,330,888,420,230,920,230,330,745,440,310,350,624,745,624,745,210,624,330,480,440,745,330,624,624,330,480,442,648,230,850,850,624,745,510,624,624,666,330,330,440,440,330,662,662,341,956,330,623,510,354,330,624,420,351,888,442,310,440,745,440,330,310,510,310,330,330,761,341,510,330,624,343,624,310,624,230,341,330,330,310,330,624,442,480,624,888,330,330,440,440,740,442,440,442,442,624,888,624,510,624,624,624,510,745],\"yaxis\":\"y\",\"type\":\"scatter\"}],                        {\"template\":{\"data\":{\"histogram2dcontour\":[{\"type\":\"histogram2dcontour\",\"colorbar\":{\"outlinewidth\":0,\"ticks\":\"\"},\"colorscale\":[[0.0,\"#0d0887\"],[0.1111111111111111,\"#46039f\"],[0.2222222222222222,\"#7201a8\"],[0.3333333333333333,\"#9c179e\"],[0.4444444444444444,\"#bd3786\"],[0.5555555555555556,\"#d8576b\"],[0.6666666666666666,\"#ed7953\"],[0.7777777777777778,\"#fb9f3a\"],[0.8888888888888888,\"#fdca26\"],[1.0,\"#f0f921\"]]}],\"choropleth\":[{\"type\":\"choropleth\",\"colorbar\":{\"outlinewidth\":0,\"ticks\":\"\"}}],\"histogram2d\":[{\"type\":\"histogram2d\",\"colorbar\":{\"outlinewidth\":0,\"ticks\":\"\"},\"colorscale\":[[0.0,\"#0d0887\"],[0.1111111111111111,\"#46039f\"],[0.2222222222222222,\"#7201a8\"],[0.3333333333333333,\"#9c179e\"],[0.4444444444444444,\"#bd3786\"],[0.5555555555555556,\"#d8576b\"],[0.6666666666666666,\"#ed7953\"],[0.7777777777777778,\"#fb9f3a\"],[0.8888888888888888,\"#fdca26\"],[1.0,\"#f0f921\"]]}],\"heatmap\":[{\"type\":\"heatmap\",\"colorbar\":{\"outlinewidth\":0,\"ticks\":\"\"},\"colorscale\":[[0.0,\"#0d0887\"],[0.1111111111111111,\"#46039f\"],[0.2222222222222222,\"#7201a8\"],[0.3333333333333333,\"#9c179e\"],[0.4444444444444444,\"#bd3786\"],[0.5555555555555556,\"#d8576b\"],[0.6666666666666666,\"#ed7953\"],[0.7777777777777778,\"#fb9f3a\"],[0.8888888888888888,\"#fdca26\"],[1.0,\"#f0f921\"]]}],\"heatmapgl\":[{\"type\":\"heatmapgl\",\"colorbar\":{\"outlinewidth\":0,\"ticks\":\"\"},\"colorscale\":[[0.0,\"#0d0887\"],[0.1111111111111111,\"#46039f\"],[0.2222222222222222,\"#7201a8\"],[0.3333333333333333,\"#9c179e\"],[0.4444444444444444,\"#bd3786\"],[0.5555555555555556,\"#d8576b\"],[0.6666666666666666,\"#ed7953\"],[0.7777777777777778,\"#fb9f3a\"],[0.8888888888888888,\"#fdca26\"],[1.0,\"#f0f921\"]]}],\"contourcarpet\":[{\"type\":\"contourcarpet\",\"colorbar\":{\"outlinewidth\":0,\"ticks\":\"\"}}],\"contour\":[{\"type\":\"contour\",\"colorbar\":{\"outlinewidth\":0,\"ticks\":\"\"},\"colorscale\":[[0.0,\"#0d0887\"],[0.1111111111111111,\"#46039f\"],[0.2222222222222222,\"#7201a8\"],[0.3333333333333333,\"#9c179e\"],[0.4444444444444444,\"#bd3786\"],[0.5555555555555556,\"#d8576b\"],[0.6666666666666666,\"#ed7953\"],[0.7777777777777778,\"#fb9f3a\"],[0.8888888888888888,\"#fdca26\"],[1.0,\"#f0f921\"]]}],\"surface\":[{\"type\":\"surface\",\"colorbar\":{\"outlinewidth\":0,\"ticks\":\"\"},\"colorscale\":[[0.0,\"#0d0887\"],[0.1111111111111111,\"#46039f\"],[0.2222222222222222,\"#7201a8\"],[0.3333333333333333,\"#9c179e\"],[0.4444444444444444,\"#bd3786\"],[0.5555555555555556,\"#d8576b\"],[0.6666666666666666,\"#ed7953\"],[0.7777777777777778,\"#fb9f3a\"],[0.8888888888888888,\"#fdca26\"],[1.0,\"#f0f921\"]]}],\"mesh3d\":[{\"type\":\"mesh3d\",\"colorbar\":{\"outlinewidth\":0,\"ticks\":\"\"}}],\"scatter\":[{\"fillpattern\":{\"fillmode\":\"overlay\",\"size\":10,\"solidity\":0.2},\"type\":\"scatter\"}],\"parcoords\":[{\"type\":\"parcoords\",\"line\":{\"colorbar\":{\"outlinewidth\":0,\"ticks\":\"\"}}}],\"scatterpolargl\":[{\"type\":\"scatterpolargl\",\"marker\":{\"colorbar\":{\"outlinewidth\":0,\"ticks\":\"\"}}}],\"bar\":[{\"error_x\":{\"color\":\"#2a3f5f\"},\"error_y\":{\"color\":\"#2a3f5f\"},\"marker\":{\"line\":{\"color\":\"#E5ECF6\",\"width\":0.5},\"pattern\":{\"fillmode\":\"overlay\",\"size\":10,\"solidity\":0.2}},\"type\":\"bar\"}],\"scattergeo\":[{\"type\":\"scattergeo\",\"marker\":{\"colorbar\":{\"outlinewidth\":0,\"ticks\":\"\"}}}],\"scatterpolar\":[{\"type\":\"scatterpolar\",\"marker\":{\"colorbar\":{\"outlinewidth\":0,\"ticks\":\"\"}}}],\"histogram\":[{\"marker\":{\"pattern\":{\"fillmode\":\"overlay\",\"size\":10,\"solidity\":0.2}},\"type\":\"histogram\"}],\"scattergl\":[{\"type\":\"scattergl\",\"marker\":{\"colorbar\":{\"outlinewidth\":0,\"ticks\":\"\"}}}],\"scatter3d\":[{\"type\":\"scatter3d\",\"line\":{\"colorbar\":{\"outlinewidth\":0,\"ticks\":\"\"}},\"marker\":{\"colorbar\":{\"outlinewidth\":0,\"ticks\":\"\"}}}],\"scattermapbox\":[{\"type\":\"scattermapbox\",\"marker\":{\"colorbar\":{\"outlinewidth\":0,\"ticks\":\"\"}}}],\"scatterternary\":[{\"type\":\"scatterternary\",\"marker\":{\"colorbar\":{\"outlinewidth\":0,\"ticks\":\"\"}}}],\"scattercarpet\":[{\"type\":\"scattercarpet\",\"marker\":{\"colorbar\":{\"outlinewidth\":0,\"ticks\":\"\"}}}],\"carpet\":[{\"aaxis\":{\"endlinecolor\":\"#2a3f5f\",\"gridcolor\":\"white\",\"linecolor\":\"white\",\"minorgridcolor\":\"white\",\"startlinecolor\":\"#2a3f5f\"},\"baxis\":{\"endlinecolor\":\"#2a3f5f\",\"gridcolor\":\"white\",\"linecolor\":\"white\",\"minorgridcolor\":\"white\",\"startlinecolor\":\"#2a3f5f\"},\"type\":\"carpet\"}],\"table\":[{\"cells\":{\"fill\":{\"color\":\"#EBF0F8\"},\"line\":{\"color\":\"white\"}},\"header\":{\"fill\":{\"color\":\"#C8D4E3\"},\"line\":{\"color\":\"white\"}},\"type\":\"table\"}],\"barpolar\":[{\"marker\":{\"line\":{\"color\":\"#E5ECF6\",\"width\":0.5},\"pattern\":{\"fillmode\":\"overlay\",\"size\":10,\"solidity\":0.2}},\"type\":\"barpolar\"}],\"pie\":[{\"automargin\":true,\"type\":\"pie\"}]},\"layout\":{\"autotypenumbers\":\"strict\",\"colorway\":[\"#636efa\",\"#EF553B\",\"#00cc96\",\"#ab63fa\",\"#FFA15A\",\"#19d3f3\",\"#FF6692\",\"#B6E880\",\"#FF97FF\",\"#FECB52\"],\"font\":{\"color\":\"#2a3f5f\"},\"hovermode\":\"closest\",\"hoverlabel\":{\"align\":\"left\"},\"paper_bgcolor\":\"white\",\"plot_bgcolor\":\"#E5ECF6\",\"polar\":{\"bgcolor\":\"#E5ECF6\",\"angularaxis\":{\"gridcolor\":\"white\",\"linecolor\":\"white\",\"ticks\":\"\"},\"radialaxis\":{\"gridcolor\":\"white\",\"linecolor\":\"white\",\"ticks\":\"\"}},\"ternary\":{\"bgcolor\":\"#E5ECF6\",\"aaxis\":{\"gridcolor\":\"white\",\"linecolor\":\"white\",\"ticks\":\"\"},\"baxis\":{\"gridcolor\":\"white\",\"linecolor\":\"white\",\"ticks\":\"\"},\"caxis\":{\"gridcolor\":\"white\",\"linecolor\":\"white\",\"ticks\":\"\"}},\"coloraxis\":{\"colorbar\":{\"outlinewidth\":0,\"ticks\":\"\"}},\"colorscale\":{\"sequential\":[[0.0,\"#0d0887\"],[0.1111111111111111,\"#46039f\"],[0.2222222222222222,\"#7201a8\"],[0.3333333333333333,\"#9c179e\"],[0.4444444444444444,\"#bd3786\"],[0.5555555555555556,\"#d8576b\"],[0.6666666666666666,\"#ed7953\"],[0.7777777777777778,\"#fb9f3a\"],[0.8888888888888888,\"#fdca26\"],[1.0,\"#f0f921\"]],\"sequentialminus\":[[0.0,\"#0d0887\"],[0.1111111111111111,\"#46039f\"],[0.2222222222222222,\"#7201a8\"],[0.3333333333333333,\"#9c179e\"],[0.4444444444444444,\"#bd3786\"],[0.5555555555555556,\"#d8576b\"],[0.6666666666666666,\"#ed7953\"],[0.7777777777777778,\"#fb9f3a\"],[0.8888888888888888,\"#fdca26\"],[1.0,\"#f0f921\"]],\"diverging\":[[0,\"#8e0152\"],[0.1,\"#c51b7d\"],[0.2,\"#de77ae\"],[0.3,\"#f1b6da\"],[0.4,\"#fde0ef\"],[0.5,\"#f7f7f7\"],[0.6,\"#e6f5d0\"],[0.7,\"#b8e186\"],[0.8,\"#7fbc41\"],[0.9,\"#4d9221\"],[1,\"#276419\"]]},\"xaxis\":{\"gridcolor\":\"white\",\"linecolor\":\"white\",\"ticks\":\"\",\"title\":{\"standoff\":15},\"zerolinecolor\":\"white\",\"automargin\":true,\"zerolinewidth\":2},\"yaxis\":{\"gridcolor\":\"white\",\"linecolor\":\"white\",\"ticks\":\"\",\"title\":{\"standoff\":15},\"zerolinecolor\":\"white\",\"automargin\":true,\"zerolinewidth\":2},\"scene\":{\"xaxis\":{\"backgroundcolor\":\"#E5ECF6\",\"gridcolor\":\"white\",\"linecolor\":\"white\",\"showbackground\":true,\"ticks\":\"\",\"zerolinecolor\":\"white\",\"gridwidth\":2},\"yaxis\":{\"backgroundcolor\":\"#E5ECF6\",\"gridcolor\":\"white\",\"linecolor\":\"white\",\"showbackground\":true,\"ticks\":\"\",\"zerolinecolor\":\"white\",\"gridwidth\":2},\"zaxis\":{\"backgroundcolor\":\"#E5ECF6\",\"gridcolor\":\"white\",\"linecolor\":\"white\",\"showbackground\":true,\"ticks\":\"\",\"zerolinecolor\":\"white\",\"gridwidth\":2}},\"shapedefaults\":{\"line\":{\"color\":\"#2a3f5f\"}},\"annotationdefaults\":{\"arrowcolor\":\"#2a3f5f\",\"arrowhead\":0,\"arrowwidth\":1},\"geo\":{\"bgcolor\":\"white\",\"landcolor\":\"#E5ECF6\",\"subunitcolor\":\"white\",\"showland\":true,\"showlakes\":true,\"lakecolor\":\"white\"},\"title\":{\"x\":0.05},\"mapbox\":{\"style\":\"light\"}}},\"xaxis\":{\"anchor\":\"y\",\"domain\":[0.0,1.0],\"title\":{\"text\":\"Crm_Cd_Desc\"}},\"yaxis\":{\"anchor\":\"x\",\"domain\":[0.0,1.0],\"title\":{\"text\":\"Crm_Cd\"}},\"legend\":{\"tracegroupgap\":0},\"margin\":{\"t\":60}},                        {\"responsive\": true}                    ).then(function(){\n",
       "                            \n",
       "var gd = document.getElementById('13c36668-c6d9-4c98-963e-5d784166e83e');\n",
       "var x = new MutationObserver(function (mutations, observer) {{\n",
       "        var display = window.getComputedStyle(gd).display;\n",
       "        if (!display || display === 'none') {{\n",
       "            console.log([gd, 'removed!']);\n",
       "            Plotly.purge(gd);\n",
       "            observer.disconnect();\n",
       "        }}\n",
       "}});\n",
       "\n",
       "// Listen for the removal of the full notebook cells\n",
       "var notebookContainer = gd.closest('#notebook-container');\n",
       "if (notebookContainer) {{\n",
       "    x.observe(notebookContainer, {childList: true});\n",
       "}}\n",
       "\n",
       "// Listen for the clearing of the current output cell\n",
       "var outputEl = gd.closest('.output');\n",
       "if (outputEl) {{\n",
       "    x.observe(outputEl, {childList: true});\n",
       "}}\n",
       "\n",
       "                        })                };                });            </script>        </div>"
      ]
     },
     "metadata": {},
     "output_type": "display_data"
    }
   ],
   "source": [
    "# What is the distribution of reported crimes based on Crime Code?\n",
    "import plotly.express as px\n",
    "fig = px.scatter(df, x = \"Crm_Cd_Desc\", y = \"Crm_Cd\")\n",
    "fig\n"
   ]
  },
  {
   "cell_type": "code",
   "execution_count": null,
   "id": "eea91035-cc72-4399-9b56-d66c90a4fbca",
   "metadata": {},
   "outputs": [],
   "source": []
  }
 ],
 "metadata": {
  "kernelspec": {
   "display_name": "Python 3 (ipykernel)",
   "language": "python",
   "name": "python3"
  },
  "language_info": {
   "codemirror_mode": {
    "name": "ipython",
    "version": 3
   },
   "file_extension": ".py",
   "mimetype": "text/x-python",
   "name": "python",
   "nbconvert_exporter": "python",
   "pygments_lexer": "ipython3",
   "version": "3.11.7"
  }
 },
 "nbformat": 4,
 "nbformat_minor": 5
}
